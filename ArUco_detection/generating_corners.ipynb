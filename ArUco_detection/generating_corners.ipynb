{
 "cells": [
  {
   "cell_type": "code",
   "execution_count": 1,
   "metadata": {},
   "outputs": [],
   "source": [
    "import numpy as np\n",
    "import matplotlib.pyplot as plt\n",
    "import polars as pl\n",
    "import pandas as pd\n",
    "\n",
    "from ultralytics import YOLO\n",
    "import sys\n",
    "import os\n",
    "sys.path.append(os.path.abspath(os.path.join('..')))"
   ]
  },
  {
   "cell_type": "code",
   "execution_count": 15,
   "metadata": {},
   "outputs": [],
   "source": [
    "model = YOLO(os.path.join(\"..\", \"models\", \"yolov5su.pt\"))"
   ]
  },
  {
   "cell_type": "code",
   "execution_count": 1,
   "metadata": {},
   "outputs": [
    {
     "name": "stdout",
     "output_type": "stream",
     "text": [
      "loading Roboflow workspace...\n",
      "loading Roboflow project...\n",
      "Dependency ultralytics<=8.0.20 is required but found version=8.0.98, to fix: `pip install ultralytics<=8.0.20`\n",
      "Downloading Dataset Version Zip in aruco-2 to yolov8: 100% [836021 / 836021] bytes\n"
     ]
    },
    {
     "name": "stderr",
     "output_type": "stream",
     "text": [
      "Extracting Dataset Version Zip to aruco-2 in yolov8:: 100%|██████████| 58/58 [00:00<00:00, 611.84it/s]\n"
     ]
    }
   ],
   "source": [
    "# !pip install roboflow\n",
    "\n",
    "from roboflow import Roboflow\n",
    "rf = Roboflow(api_key=\"shilmxeehegI73DSwmyV\")\n",
    "project = rf.workspace(\"armbovision\").project(\"aruco-gbeqw\")\n",
    "dataset = project.version(2).download(\"yolov8\")\n"
   ]
  },
  {
   "cell_type": "code",
   "execution_count": 5,
   "metadata": {},
   "outputs": [
    {
     "name": "stderr",
     "output_type": "stream",
     "text": [
      "Ultralytics YOLOv8.0.98  Python-3.10.11 torch-2.0.0+cpu CPU\n",
      "Model summary (fused): 168 layers, 11125971 parameters, 0 gradients, 28.4 GFLOPs\n",
      "\n",
      "image 1/1 C:\\Users\\CMC\\Documents\\openposelibs\\pose\\DeepVision\\ArUco_detection\\images\\image0.png: 544x640 1 ArUco, 737.2ms\n",
      "Speed: 6.0ms preprocess, 737.2ms inference, 40.0ms postprocess per image at shape (1, 3, 640, 640)\n",
      "Results saved to \u001b[1mruns\\detect\\predict2\u001b[0m\n"
     ]
    }
   ],
   "source": [
    "!yolo task=detect mode=predict model=best.pt imgsz=640 source=images//image0.png show=True"
   ]
  },
  {
   "cell_type": "code",
   "execution_count": 3,
   "metadata": {},
   "outputs": [],
   "source": [
    "# model = YOLO(\"yolov8n.pt\").load(\"best.pt\")\n",
    "model = YOLO(\"best.pt\")\n"
   ]
  },
  {
   "cell_type": "code",
   "execution_count": 4,
   "metadata": {},
   "outputs": [
    {
     "name": "stderr",
     "output_type": "stream",
     "text": [
      "\n",
      "image 1/1 C:\\Users\\CMC\\Documents\\openposelibs\\pose\\DeepVision\\ArUco_detection\\images\\image0.png: 672x800 1 ArUco, 2074.3ms\n",
      "Speed: 90.1ms preprocess, 2074.3ms inference, 233.1ms postprocess per image at shape (1, 3, 800, 800)\n"
     ]
    },
    {
     "data": {
      "text/plain": [
       "[ultralytics.yolo.engine.results.Results object with attributes:\n",
       " \n",
       " boxes: ultralytics.yolo.engine.results.Boxes object\n",
       " keypoints: None\n",
       " keys: ['boxes']\n",
       " masks: None\n",
       " names: {0: 'ArUco'}\n",
       " orig_img: array([[[172, 172, 172],\n",
       "         [172, 172, 172],\n",
       "         [171, 171, 171],\n",
       "         ...,\n",
       "         [151, 151, 151],\n",
       "         [151, 151, 151],\n",
       "         [151, 151, 151]],\n",
       " \n",
       "        [[172, 172, 172],\n",
       "         [172, 172, 172],\n",
       "         [171, 171, 171],\n",
       "         ...,\n",
       "         [151, 151, 151],\n",
       "         [151, 151, 151],\n",
       "         [151, 151, 151]],\n",
       " \n",
       "        [[172, 172, 172],\n",
       "         [172, 172, 172],\n",
       "         [171, 171, 171],\n",
       "         ...,\n",
       "         [151, 151, 151],\n",
       "         [151, 151, 151],\n",
       "         [151, 151, 151]],\n",
       " \n",
       "        ...,\n",
       " \n",
       "        [[131, 131, 131],\n",
       "         [131, 131, 131],\n",
       "         [132, 132, 132],\n",
       "         ...,\n",
       "         [143, 143, 143],\n",
       "         [143, 143, 143],\n",
       "         [143, 143, 143]],\n",
       " \n",
       "        [[131, 131, 131],\n",
       "         [131, 131, 131],\n",
       "         [131, 131, 131],\n",
       "         ...,\n",
       "         [143, 143, 143],\n",
       "         [143, 143, 143],\n",
       "         [143, 143, 143]],\n",
       " \n",
       "        [[131, 131, 131],\n",
       "         [131, 131, 131],\n",
       "         [131, 131, 131],\n",
       "         ...,\n",
       "         [143, 143, 143],\n",
       "         [143, 143, 143],\n",
       "         [143, 143, 143]]], dtype=uint8)\n",
       " orig_shape: (608, 750)\n",
       " path: 'C:\\\\Users\\\\CMC\\\\Documents\\\\openposelibs\\\\pose\\\\DeepVision\\\\ArUco_detection\\\\images\\\\image0.png'\n",
       " probs: None\n",
       " speed: {'preprocess': 90.08312225341797, 'inference': 2074.2907524108887, 'postprocess': 233.06918144226074}]"
      ]
     },
     "execution_count": 4,
     "metadata": {},
     "output_type": "execute_result"
    }
   ],
   "source": [
    "model.predict(\"images//image0.png\", show=True)"
   ]
  },
  {
   "cell_type": "code",
   "execution_count": 2,
   "metadata": {},
   "outputs": [
    {
     "data": {
      "text/plain": [
       "2.8722813232690143"
      ]
     },
     "execution_count": 2,
     "metadata": {},
     "output_type": "execute_result"
    }
   ],
   "source": [
    "np.array([1, 2, 3, 4, 5, 6, 7, 8, 9, 10]).std()"
   ]
  },
  {
   "cell_type": "code",
   "execution_count": null,
   "metadata": {},
   "outputs": [],
   "source": []
  }
 ],
 "metadata": {
  "kernelspec": {
   "display_name": "py310",
   "language": "python",
   "name": "python3"
  },
  "language_info": {
   "codemirror_mode": {
    "name": "ipython",
    "version": 3
   },
   "file_extension": ".py",
   "mimetype": "text/x-python",
   "name": "python",
   "nbconvert_exporter": "python",
   "pygments_lexer": "ipython3",
   "version": "3.10.11"
  },
  "orig_nbformat": 4
 },
 "nbformat": 4,
 "nbformat_minor": 2
}
