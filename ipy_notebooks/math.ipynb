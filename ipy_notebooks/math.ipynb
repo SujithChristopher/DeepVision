{
 "cells": [
  {
   "cell_type": "code",
   "execution_count": 1,
   "metadata": {},
   "outputs": [],
   "source": [
    "import numpy as np\n",
    "from scipy import stats as st"
   ]
  },
  {
   "cell_type": "code",
   "execution_count": 2,
   "metadata": {},
   "outputs": [],
   "source": [
    "val = np.array([1, 2, 3, 3.5, 3.6, 5, 6, 7, 7, 7, 7, 7, 7, 7, 7])"
   ]
  },
  {
   "cell_type": "code",
   "execution_count": 3,
   "metadata": {},
   "outputs": [
    {
     "data": {
      "text/plain": [
       "0.0"
      ]
     },
     "execution_count": 3,
     "metadata": {},
     "output_type": "execute_result"
    }
   ],
   "source": [
    "st.median_abs_deviation(val)"
   ]
  },
  {
   "cell_type": "code",
   "execution_count": 4,
   "metadata": {},
   "outputs": [
    {
     "name": "stdout",
     "output_type": "stream",
     "text": [
      "{'path': '/content/dataset.yaml', 'train': '/content/dataset_processed/images/train', 'val': '/content/dataset_processed/images/val', 'test': '/content/dataset_processed/images/test', 'kpt_shape': [5, 2], 'names': {0: 'ArUco'}}\n"
     ]
    }
   ],
   "source": [
    "pth = r\"C:\\Users\\CMC\\Documents\\openposelibs\\pose\\DeepVision\\dataset\\dataset.yaml\"\n",
    "\n",
    "import yaml\n",
    "with open(pth, 'r') as stream:\n",
    "    try:\n",
    "        print(yaml.safe_load(stream))\n",
    "    except yaml.YAMLError as exc:\n",
    "        print(exc)"
   ]
  },
  {
   "cell_type": "code",
   "execution_count": null,
   "metadata": {},
   "outputs": [],
   "source": []
  }
 ],
 "metadata": {
  "kernelspec": {
   "display_name": "py310",
   "language": "python",
   "name": "python3"
  },
  "language_info": {
   "codemirror_mode": {
    "name": "ipython",
    "version": 3
   },
   "file_extension": ".py",
   "mimetype": "text/x-python",
   "name": "python",
   "nbconvert_exporter": "python",
   "pygments_lexer": "ipython3",
   "version": "3.10.11"
  },
  "orig_nbformat": 4
 },
 "nbformat": 4,
 "nbformat_minor": 2
}
