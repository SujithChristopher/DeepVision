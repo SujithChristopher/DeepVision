{
 "cells": [
  {
   "cell_type": "code",
   "execution_count": 1,
   "metadata": {},
   "outputs": [],
   "source": [
    "from ultralytics import YOLO\n",
    "import numpy as np\n",
    "import cv2\n",
    "\n",
    "import matplotlib.pyplot as plt\n",
    "import os"
   ]
  },
  {
   "cell_type": "code",
   "execution_count": 2,
   "metadata": {},
   "outputs": [],
   "source": [
    "model = YOLO('yolov8n-pose.pt')"
   ]
  },
  {
   "cell_type": "code",
   "execution_count": 3,
   "metadata": {},
   "outputs": [
    {
     "name": "stderr",
     "output_type": "stream",
     "text": [
      "Ultralytics YOLOv8.0.121  Python-3.10.11 torch-2.0.1+cpu CPU\n",
      "\u001b[34m\u001b[1myolo\\engine\\trainer: \u001b[0mtask=pose, mode=train, model=yolov8n-pose.pt, data=coco8-pose.yaml, epochs=100, patience=50, batch=16, imgsz=640, save=True, save_period=-1, cache=False, device=None, workers=8, project=None, name=None, exist_ok=False, pretrained=True, optimizer=auto, verbose=True, seed=0, deterministic=True, single_cls=False, rect=False, cos_lr=False, close_mosaic=0, resume=False, amp=True, fraction=1.0, profile=False, overlap_mask=True, mask_ratio=4, dropout=0.0, val=True, split=val, save_json=False, save_hybrid=False, conf=None, iou=0.7, max_det=300, half=False, dnn=False, plots=True, source=None, show=False, save_txt=False, save_conf=False, save_crop=False, show_labels=True, show_conf=True, vid_stride=1, line_width=None, visualize=False, augment=False, agnostic_nms=False, classes=None, retina_masks=False, boxes=True, format=torchscript, keras=False, optimize=False, int8=False, dynamic=False, simplify=False, opset=None, workspace=4, nms=False, lr0=0.01, lrf=0.01, momentum=0.937, weight_decay=0.0005, warmup_epochs=3.0, warmup_momentum=0.8, warmup_bias_lr=0.1, box=7.5, cls=0.5, dfl=1.5, pose=12.0, kobj=1.0, label_smoothing=0.0, nbs=64, hsv_h=0.015, hsv_s=0.7, hsv_v=0.4, degrees=0.0, translate=0.1, scale=0.5, shear=0.0, perspective=0.0, flipud=0.0, fliplr=0.5, mosaic=1.0, mixup=0.0, copy_paste=0.0, cfg=None, v5loader=False, tracker=botsort.yaml, save_dir=runs\\pose\\train6\n",
      "\n",
      "Dataset 'coco8-pose.yaml' images not found , missing paths ['C:\\\\Users\\\\Sujith\\\\Documents\\\\Projects\\\\armbo\\\\datasets\\\\datasets\\\\coco8-pose\\\\images\\\\val']\n",
      "Downloading https:\\ultralytics.com\\assets\\coco8-pose.zip to C:\\Users\\Sujith\\Documents\\Projects\\armbo\\datasets\\dataset\\coco8-pose.zip...\n",
      "100%|██████████| 334k/334k [00:00<00:00, 601kB/s] \n",
      "Unzipping C:\\Users\\Sujith\\Documents\\Projects\\armbo\\datasets\\dataset\\coco8-pose.zip to C:\\Users\\Sujith\\Documents\\Projects\\armbo\\datasets\\dataset...\n",
      "Dataset download success  (4.9s), saved to \u001b[1mC:\\Users\\Sujith\\Documents\\Projects\\armbo\\datasets\\dataset\u001b[0m\n",
      "\n",
      "\n",
      "                   from  n    params  module                                       arguments                     \n",
      "  0                  -1  1       464  ultralytics.nn.modules.conv.Conv             [3, 16, 3, 2]                 \n",
      "  1                  -1  1      4672  ultralytics.nn.modules.conv.Conv             [16, 32, 3, 2]                \n",
      "  2                  -1  1      7360  ultralytics.nn.modules.block.C2f             [32, 32, 1, True]             \n",
      "  3                  -1  1     18560  ultralytics.nn.modules.conv.Conv             [32, 64, 3, 2]                \n",
      "  4                  -1  2     49664  ultralytics.nn.modules.block.C2f             [64, 64, 2, True]             \n",
      "  5                  -1  1     73984  ultralytics.nn.modules.conv.Conv             [64, 128, 3, 2]               \n",
      "  6                  -1  2    197632  ultralytics.nn.modules.block.C2f             [128, 128, 2, True]           \n",
      "  7                  -1  1    295424  ultralytics.nn.modules.conv.Conv             [128, 256, 3, 2]              \n",
      "  8                  -1  1    460288  ultralytics.nn.modules.block.C2f             [256, 256, 1, True]           \n",
      "  9                  -1  1    164608  ultralytics.nn.modules.block.SPPF            [256, 256, 5]                 \n",
      " 10                  -1  1         0  torch.nn.modules.upsampling.Upsample         [None, 2, 'nearest']          \n",
      " 11             [-1, 6]  1         0  ultralytics.nn.modules.conv.Concat           [1]                           \n",
      " 12                  -1  1    148224  ultralytics.nn.modules.block.C2f             [384, 128, 1]                 \n",
      " 13                  -1  1         0  torch.nn.modules.upsampling.Upsample         [None, 2, 'nearest']          \n",
      " 14             [-1, 4]  1         0  ultralytics.nn.modules.conv.Concat           [1]                           \n",
      " 15                  -1  1     37248  ultralytics.nn.modules.block.C2f             [192, 64, 1]                  \n",
      " 16                  -1  1     36992  ultralytics.nn.modules.conv.Conv             [64, 64, 3, 2]                \n",
      " 17            [-1, 12]  1         0  ultralytics.nn.modules.conv.Concat           [1]                           \n",
      " 18                  -1  1    123648  ultralytics.nn.modules.block.C2f             [192, 128, 1]                 \n",
      " 19                  -1  1    147712  ultralytics.nn.modules.conv.Conv             [128, 128, 3, 2]              \n",
      " 20             [-1, 9]  1         0  ultralytics.nn.modules.conv.Concat           [1]                           \n",
      " 21                  -1  1    493056  ultralytics.nn.modules.block.C2f             [384, 256, 1]                 \n",
      " 22        [15, 18, 21]  1   1035934  ultralytics.nn.modules.head.Pose             [1, [17, 3], [64, 128, 256]]  \n",
      "YOLOv8n-pose summary: 250 layers, 3295470 parameters, 3295454 gradients\n",
      "\n",
      "Transferred 397/397 items from pretrained weights\n"
     ]
    },
    {
     "ename": "FileNotFoundError",
     "evalue": "\u001b[34m\u001b[1mtrain: \u001b[0mError loading data from C:\\Users\\Sujith\\Documents\\Projects\\armbo\\datasets\\datasets\\coco8-pose\\images\\train\nSee https://docs.ultralytics.com/yolov5/tutorials/train_custom_data",
     "output_type": "error",
     "traceback": [
      "\u001b[1;31m---------------------------------------------------------------------------\u001b[0m",
      "\u001b[1;31mFileNotFoundError\u001b[0m                         Traceback (most recent call last)",
      "File \u001b[1;32mc:\\Users\\Sujith\\anaconda3\\envs\\yolo\\lib\\site-packages\\ultralytics\\yolo\\data\\base.py:114\u001b[0m, in \u001b[0;36mBaseDataset.get_img_files\u001b[1;34m(self, img_path)\u001b[0m\n\u001b[0;32m    112\u001b[0m             \u001b[39m# F += [p.parent / x.lstrip(os.sep) for x in t]  # local to global path (pathlib)\u001b[39;00m\n\u001b[0;32m    113\u001b[0m     \u001b[39melse\u001b[39;00m:\n\u001b[1;32m--> 114\u001b[0m         \u001b[39mraise\u001b[39;00m \u001b[39mFileNotFoundError\u001b[39;00m(\u001b[39mf\u001b[39m\u001b[39m'\u001b[39m\u001b[39m{\u001b[39;00m\u001b[39mself\u001b[39m\u001b[39m.\u001b[39mprefix\u001b[39m}\u001b[39;00m\u001b[39m{\u001b[39;00mp\u001b[39m}\u001b[39;00m\u001b[39m does not exist\u001b[39m\u001b[39m'\u001b[39m)\n\u001b[0;32m    115\u001b[0m im_files \u001b[39m=\u001b[39m \u001b[39msorted\u001b[39m(x\u001b[39m.\u001b[39mreplace(\u001b[39m'\u001b[39m\u001b[39m/\u001b[39m\u001b[39m'\u001b[39m, os\u001b[39m.\u001b[39msep) \u001b[39mfor\u001b[39;00m x \u001b[39min\u001b[39;00m f \u001b[39mif\u001b[39;00m x\u001b[39m.\u001b[39msplit(\u001b[39m'\u001b[39m\u001b[39m.\u001b[39m\u001b[39m'\u001b[39m)[\u001b[39m-\u001b[39m\u001b[39m1\u001b[39m]\u001b[39m.\u001b[39mlower() \u001b[39min\u001b[39;00m IMG_FORMATS)\n",
      "\u001b[1;31mFileNotFoundError\u001b[0m: \u001b[34m\u001b[1mtrain: \u001b[0mC:\\Users\\Sujith\\Documents\\Projects\\armbo\\datasets\\datasets\\coco8-pose\\images\\train does not exist",
      "\nThe above exception was the direct cause of the following exception:\n",
      "\u001b[1;31mFileNotFoundError\u001b[0m                         Traceback (most recent call last)",
      "Cell \u001b[1;32mIn[3], line 1\u001b[0m\n\u001b[1;32m----> 1\u001b[0m model\u001b[39m.\u001b[39;49mtrain(data\u001b[39m=\u001b[39;49m\u001b[39m'\u001b[39;49m\u001b[39mcoco8-pose.yaml\u001b[39;49m\u001b[39m'\u001b[39;49m, epochs\u001b[39m=\u001b[39;49m\u001b[39m100\u001b[39;49m, imgsz\u001b[39m=\u001b[39;49m\u001b[39m640\u001b[39;49m)\n",
      "File \u001b[1;32mc:\\Users\\Sujith\\anaconda3\\envs\\yolo\\lib\\site-packages\\ultralytics\\yolo\\engine\\model.py:373\u001b[0m, in \u001b[0;36mYOLO.train\u001b[1;34m(self, **kwargs)\u001b[0m\n\u001b[0;32m    371\u001b[0m     \u001b[39mself\u001b[39m\u001b[39m.\u001b[39mmodel \u001b[39m=\u001b[39m \u001b[39mself\u001b[39m\u001b[39m.\u001b[39mtrainer\u001b[39m.\u001b[39mmodel\n\u001b[0;32m    372\u001b[0m \u001b[39mself\u001b[39m\u001b[39m.\u001b[39mtrainer\u001b[39m.\u001b[39mhub_session \u001b[39m=\u001b[39m \u001b[39mself\u001b[39m\u001b[39m.\u001b[39msession  \u001b[39m# attach optional HUB session\u001b[39;00m\n\u001b[1;32m--> 373\u001b[0m \u001b[39mself\u001b[39;49m\u001b[39m.\u001b[39;49mtrainer\u001b[39m.\u001b[39;49mtrain()\n\u001b[0;32m    374\u001b[0m \u001b[39m# Update model and cfg after training\u001b[39;00m\n\u001b[0;32m    375\u001b[0m \u001b[39mif\u001b[39;00m RANK \u001b[39min\u001b[39;00m (\u001b[39m-\u001b[39m\u001b[39m1\u001b[39m, \u001b[39m0\u001b[39m):\n",
      "File \u001b[1;32mc:\\Users\\Sujith\\anaconda3\\envs\\yolo\\lib\\site-packages\\ultralytics\\yolo\\engine\\trainer.py:192\u001b[0m, in \u001b[0;36mBaseTrainer.train\u001b[1;34m(self)\u001b[0m\n\u001b[0;32m    190\u001b[0m         ddp_cleanup(\u001b[39mself\u001b[39m, \u001b[39mstr\u001b[39m(file))\n\u001b[0;32m    191\u001b[0m \u001b[39melse\u001b[39;00m:\n\u001b[1;32m--> 192\u001b[0m     \u001b[39mself\u001b[39;49m\u001b[39m.\u001b[39;49m_do_train(world_size)\n",
      "File \u001b[1;32mc:\\Users\\Sujith\\anaconda3\\envs\\yolo\\lib\\site-packages\\ultralytics\\yolo\\engine\\trainer.py:275\u001b[0m, in \u001b[0;36mBaseTrainer._do_train\u001b[1;34m(self, world_size)\u001b[0m\n\u001b[0;32m    272\u001b[0m \u001b[39mif\u001b[39;00m world_size \u001b[39m>\u001b[39m \u001b[39m1\u001b[39m:\n\u001b[0;32m    273\u001b[0m     \u001b[39mself\u001b[39m\u001b[39m.\u001b[39m_setup_ddp(world_size)\n\u001b[1;32m--> 275\u001b[0m \u001b[39mself\u001b[39;49m\u001b[39m.\u001b[39;49m_setup_train(world_size)\n\u001b[0;32m    277\u001b[0m \u001b[39mself\u001b[39m\u001b[39m.\u001b[39mepoch_time \u001b[39m=\u001b[39m \u001b[39mNone\u001b[39;00m\n\u001b[0;32m    278\u001b[0m \u001b[39mself\u001b[39m\u001b[39m.\u001b[39mepoch_time_start \u001b[39m=\u001b[39m time\u001b[39m.\u001b[39mtime()\n",
      "File \u001b[1;32mc:\\Users\\Sujith\\anaconda3\\envs\\yolo\\lib\\site-packages\\ultralytics\\yolo\\engine\\trainer.py:239\u001b[0m, in \u001b[0;36mBaseTrainer._setup_train\u001b[1;34m(self, world_size)\u001b[0m\n\u001b[0;32m    237\u001b[0m \u001b[39m# Dataloaders\u001b[39;00m\n\u001b[0;32m    238\u001b[0m batch_size \u001b[39m=\u001b[39m \u001b[39mself\u001b[39m\u001b[39m.\u001b[39mbatch_size \u001b[39m/\u001b[39m\u001b[39m/\u001b[39m \u001b[39mmax\u001b[39m(world_size, \u001b[39m1\u001b[39m)\n\u001b[1;32m--> 239\u001b[0m \u001b[39mself\u001b[39m\u001b[39m.\u001b[39mtrain_loader \u001b[39m=\u001b[39m \u001b[39mself\u001b[39;49m\u001b[39m.\u001b[39;49mget_dataloader(\u001b[39mself\u001b[39;49m\u001b[39m.\u001b[39;49mtrainset, batch_size\u001b[39m=\u001b[39;49mbatch_size, rank\u001b[39m=\u001b[39;49mRANK, mode\u001b[39m=\u001b[39;49m\u001b[39m'\u001b[39;49m\u001b[39mtrain\u001b[39;49m\u001b[39m'\u001b[39;49m)\n\u001b[0;32m    240\u001b[0m \u001b[39mif\u001b[39;00m RANK \u001b[39min\u001b[39;00m (\u001b[39m-\u001b[39m\u001b[39m1\u001b[39m, \u001b[39m0\u001b[39m):\n\u001b[0;32m    241\u001b[0m     \u001b[39mself\u001b[39m\u001b[39m.\u001b[39mtest_loader \u001b[39m=\u001b[39m \u001b[39mself\u001b[39m\u001b[39m.\u001b[39mget_dataloader(\u001b[39mself\u001b[39m\u001b[39m.\u001b[39mtestset, batch_size\u001b[39m=\u001b[39mbatch_size \u001b[39m*\u001b[39m \u001b[39m2\u001b[39m, rank\u001b[39m=\u001b[39m\u001b[39m-\u001b[39m\u001b[39m1\u001b[39m, mode\u001b[39m=\u001b[39m\u001b[39m'\u001b[39m\u001b[39mval\u001b[39m\u001b[39m'\u001b[39m)\n",
      "File \u001b[1;32mc:\\Users\\Sujith\\anaconda3\\envs\\yolo\\lib\\site-packages\\ultralytics\\yolo\\v8\\detect\\train.py:54\u001b[0m, in \u001b[0;36mDetectionTrainer.get_dataloader\u001b[1;34m(self, dataset_path, batch_size, rank, mode)\u001b[0m\n\u001b[0;32m     52\u001b[0m \u001b[39massert\u001b[39;00m mode \u001b[39min\u001b[39;00m [\u001b[39m'\u001b[39m\u001b[39mtrain\u001b[39m\u001b[39m'\u001b[39m, \u001b[39m'\u001b[39m\u001b[39mval\u001b[39m\u001b[39m'\u001b[39m]\n\u001b[0;32m     53\u001b[0m \u001b[39mwith\u001b[39;00m torch_distributed_zero_first(rank):  \u001b[39m# init dataset *.cache only once if DDP\u001b[39;00m\n\u001b[1;32m---> 54\u001b[0m     dataset \u001b[39m=\u001b[39m \u001b[39mself\u001b[39;49m\u001b[39m.\u001b[39;49mbuild_dataset(dataset_path, mode, batch_size)\n\u001b[0;32m     55\u001b[0m shuffle \u001b[39m=\u001b[39m mode \u001b[39m==\u001b[39m \u001b[39m'\u001b[39m\u001b[39mtrain\u001b[39m\u001b[39m'\u001b[39m\n\u001b[0;32m     56\u001b[0m \u001b[39mif\u001b[39;00m \u001b[39mgetattr\u001b[39m(dataset, \u001b[39m'\u001b[39m\u001b[39mrect\u001b[39m\u001b[39m'\u001b[39m, \u001b[39mFalse\u001b[39;00m) \u001b[39mand\u001b[39;00m shuffle:\n",
      "File \u001b[1;32mc:\\Users\\Sujith\\anaconda3\\envs\\yolo\\lib\\site-packages\\ultralytics\\yolo\\v8\\detect\\train.py:28\u001b[0m, in \u001b[0;36mDetectionTrainer.build_dataset\u001b[1;34m(self, img_path, mode, batch)\u001b[0m\n\u001b[0;32m     20\u001b[0m \u001b[39m\u001b[39m\u001b[39m\"\"\"Build YOLO Dataset\u001b[39;00m\n\u001b[0;32m     21\u001b[0m \n\u001b[0;32m     22\u001b[0m \u001b[39mArgs:\u001b[39;00m\n\u001b[1;32m   (...)\u001b[0m\n\u001b[0;32m     25\u001b[0m \u001b[39m    batch (int, optional): Size of batches, this is for `rect`. Defaults to None.\u001b[39;00m\n\u001b[0;32m     26\u001b[0m \u001b[39m\"\"\"\u001b[39;00m\n\u001b[0;32m     27\u001b[0m gs \u001b[39m=\u001b[39m \u001b[39mmax\u001b[39m(\u001b[39mint\u001b[39m(de_parallel(\u001b[39mself\u001b[39m\u001b[39m.\u001b[39mmodel)\u001b[39m.\u001b[39mstride\u001b[39m.\u001b[39mmax() \u001b[39mif\u001b[39;00m \u001b[39mself\u001b[39m\u001b[39m.\u001b[39mmodel \u001b[39melse\u001b[39;00m \u001b[39m0\u001b[39m), \u001b[39m32\u001b[39m)\n\u001b[1;32m---> 28\u001b[0m \u001b[39mreturn\u001b[39;00m build_yolo_dataset(\u001b[39mself\u001b[39;49m\u001b[39m.\u001b[39;49margs, img_path, batch, \u001b[39mself\u001b[39;49m\u001b[39m.\u001b[39;49mdata, mode\u001b[39m=\u001b[39;49mmode, rect\u001b[39m=\u001b[39;49mmode \u001b[39m==\u001b[39;49m \u001b[39m'\u001b[39;49m\u001b[39mval\u001b[39;49m\u001b[39m'\u001b[39;49m, stride\u001b[39m=\u001b[39;49mgs)\n",
      "File \u001b[1;32mc:\\Users\\Sujith\\anaconda3\\envs\\yolo\\lib\\site-packages\\ultralytics\\yolo\\data\\build.py:74\u001b[0m, in \u001b[0;36mbuild_yolo_dataset\u001b[1;34m(cfg, img_path, batch, data, mode, rect, stride)\u001b[0m\n\u001b[0;32m     72\u001b[0m \u001b[39mdef\u001b[39;00m \u001b[39mbuild_yolo_dataset\u001b[39m(cfg, img_path, batch, data, mode\u001b[39m=\u001b[39m\u001b[39m'\u001b[39m\u001b[39mtrain\u001b[39m\u001b[39m'\u001b[39m, rect\u001b[39m=\u001b[39m\u001b[39mFalse\u001b[39;00m, stride\u001b[39m=\u001b[39m\u001b[39m32\u001b[39m):\n\u001b[0;32m     73\u001b[0m \u001b[39m    \u001b[39m\u001b[39m\"\"\"Build YOLO Dataset\"\"\"\u001b[39;00m\n\u001b[1;32m---> 74\u001b[0m     \u001b[39mreturn\u001b[39;00m YOLODataset(\n\u001b[0;32m     75\u001b[0m         img_path\u001b[39m=\u001b[39;49mimg_path,\n\u001b[0;32m     76\u001b[0m         imgsz\u001b[39m=\u001b[39;49mcfg\u001b[39m.\u001b[39;49mimgsz,\n\u001b[0;32m     77\u001b[0m         batch_size\u001b[39m=\u001b[39;49mbatch,\n\u001b[0;32m     78\u001b[0m         augment\u001b[39m=\u001b[39;49mmode \u001b[39m==\u001b[39;49m \u001b[39m'\u001b[39;49m\u001b[39mtrain\u001b[39;49m\u001b[39m'\u001b[39;49m,  \u001b[39m# augmentation\u001b[39;49;00m\n\u001b[0;32m     79\u001b[0m         hyp\u001b[39m=\u001b[39;49mcfg,  \u001b[39m# TODO: probably add a get_hyps_from_cfg function\u001b[39;49;00m\n\u001b[0;32m     80\u001b[0m         rect\u001b[39m=\u001b[39;49mcfg\u001b[39m.\u001b[39;49mrect \u001b[39mor\u001b[39;49;00m rect,  \u001b[39m# rectangular batches\u001b[39;49;00m\n\u001b[0;32m     81\u001b[0m         cache\u001b[39m=\u001b[39;49mcfg\u001b[39m.\u001b[39;49mcache \u001b[39mor\u001b[39;49;00m \u001b[39mNone\u001b[39;49;00m,\n\u001b[0;32m     82\u001b[0m         single_cls\u001b[39m=\u001b[39;49mcfg\u001b[39m.\u001b[39;49msingle_cls \u001b[39mor\u001b[39;49;00m \u001b[39mFalse\u001b[39;49;00m,\n\u001b[0;32m     83\u001b[0m         stride\u001b[39m=\u001b[39;49m\u001b[39mint\u001b[39;49m(stride),\n\u001b[0;32m     84\u001b[0m         pad\u001b[39m=\u001b[39;49m\u001b[39m0.0\u001b[39;49m \u001b[39mif\u001b[39;49;00m mode \u001b[39m==\u001b[39;49m \u001b[39m'\u001b[39;49m\u001b[39mtrain\u001b[39;49m\u001b[39m'\u001b[39;49m \u001b[39melse\u001b[39;49;00m \u001b[39m0.5\u001b[39;49m,\n\u001b[0;32m     85\u001b[0m         prefix\u001b[39m=\u001b[39;49mcolorstr(\u001b[39mf\u001b[39;49m\u001b[39m'\u001b[39;49m\u001b[39m{\u001b[39;49;00mmode\u001b[39m}\u001b[39;49;00m\u001b[39m: \u001b[39;49m\u001b[39m'\u001b[39;49m),\n\u001b[0;32m     86\u001b[0m         use_segments\u001b[39m=\u001b[39;49mcfg\u001b[39m.\u001b[39;49mtask \u001b[39m==\u001b[39;49m \u001b[39m'\u001b[39;49m\u001b[39msegment\u001b[39;49m\u001b[39m'\u001b[39;49m,\n\u001b[0;32m     87\u001b[0m         use_keypoints\u001b[39m=\u001b[39;49mcfg\u001b[39m.\u001b[39;49mtask \u001b[39m==\u001b[39;49m \u001b[39m'\u001b[39;49m\u001b[39mpose\u001b[39;49m\u001b[39m'\u001b[39;49m,\n\u001b[0;32m     88\u001b[0m         classes\u001b[39m=\u001b[39;49mcfg\u001b[39m.\u001b[39;49mclasses,\n\u001b[0;32m     89\u001b[0m         data\u001b[39m=\u001b[39;49mdata,\n\u001b[0;32m     90\u001b[0m         fraction\u001b[39m=\u001b[39;49mcfg\u001b[39m.\u001b[39;49mfraction \u001b[39mif\u001b[39;49;00m mode \u001b[39m==\u001b[39;49m \u001b[39m'\u001b[39;49m\u001b[39mtrain\u001b[39;49m\u001b[39m'\u001b[39;49m \u001b[39melse\u001b[39;49;00m \u001b[39m1.0\u001b[39;49m)\n",
      "File \u001b[1;32mc:\\Users\\Sujith\\anaconda3\\envs\\yolo\\lib\\site-packages\\ultralytics\\yolo\\data\\dataset.py:40\u001b[0m, in \u001b[0;36mYOLODataset.__init__\u001b[1;34m(self, data, use_segments, use_keypoints, *args, **kwargs)\u001b[0m\n\u001b[0;32m     38\u001b[0m \u001b[39mself\u001b[39m\u001b[39m.\u001b[39mch \u001b[39m=\u001b[39m \u001b[39m1\u001b[39m\n\u001b[0;32m     39\u001b[0m \u001b[39massert\u001b[39;00m \u001b[39mnot\u001b[39;00m (\u001b[39mself\u001b[39m\u001b[39m.\u001b[39muse_segments \u001b[39mand\u001b[39;00m \u001b[39mself\u001b[39m\u001b[39m.\u001b[39muse_keypoints), \u001b[39m'\u001b[39m\u001b[39mCan not use both segments and keypoints.\u001b[39m\u001b[39m'\u001b[39m\n\u001b[1;32m---> 40\u001b[0m \u001b[39msuper\u001b[39m()\u001b[39m.\u001b[39m\u001b[39m__init__\u001b[39m(\u001b[39m*\u001b[39margs, \u001b[39m*\u001b[39m\u001b[39m*\u001b[39mkwargs)\n",
      "File \u001b[1;32mc:\\Users\\Sujith\\anaconda3\\envs\\yolo\\lib\\site-packages\\ultralytics\\yolo\\data\\base.py:71\u001b[0m, in \u001b[0;36mBaseDataset.__init__\u001b[1;34m(self, img_path, imgsz, cache, augment, hyp, prefix, rect, batch_size, stride, pad, single_cls, classes, fraction)\u001b[0m\n\u001b[0;32m     69\u001b[0m \u001b[39mself\u001b[39m\u001b[39m.\u001b[39mprefix \u001b[39m=\u001b[39m prefix\n\u001b[0;32m     70\u001b[0m \u001b[39mself\u001b[39m\u001b[39m.\u001b[39mfraction \u001b[39m=\u001b[39m fraction\n\u001b[1;32m---> 71\u001b[0m \u001b[39mself\u001b[39m\u001b[39m.\u001b[39mim_files \u001b[39m=\u001b[39m \u001b[39mself\u001b[39;49m\u001b[39m.\u001b[39;49mget_img_files(\u001b[39mself\u001b[39;49m\u001b[39m.\u001b[39;49mimg_path)\n\u001b[0;32m     72\u001b[0m \u001b[39mself\u001b[39m\u001b[39m.\u001b[39mlabels \u001b[39m=\u001b[39m \u001b[39mself\u001b[39m\u001b[39m.\u001b[39mget_labels()\n\u001b[0;32m     73\u001b[0m \u001b[39mself\u001b[39m\u001b[39m.\u001b[39mupdate_labels(include_class\u001b[39m=\u001b[39mclasses)  \u001b[39m# single_cls and include_class\u001b[39;00m\n",
      "File \u001b[1;32mc:\\Users\\Sujith\\anaconda3\\envs\\yolo\\lib\\site-packages\\ultralytics\\yolo\\data\\base.py:119\u001b[0m, in \u001b[0;36mBaseDataset.get_img_files\u001b[1;34m(self, img_path)\u001b[0m\n\u001b[0;32m    117\u001b[0m     \u001b[39massert\u001b[39;00m im_files, \u001b[39mf\u001b[39m\u001b[39m'\u001b[39m\u001b[39m{\u001b[39;00m\u001b[39mself\u001b[39m\u001b[39m.\u001b[39mprefix\u001b[39m}\u001b[39;00m\u001b[39mNo images found\u001b[39m\u001b[39m'\u001b[39m\n\u001b[0;32m    118\u001b[0m \u001b[39mexcept\u001b[39;00m \u001b[39mException\u001b[39;00m \u001b[39mas\u001b[39;00m e:\n\u001b[1;32m--> 119\u001b[0m     \u001b[39mraise\u001b[39;00m \u001b[39mFileNotFoundError\u001b[39;00m(\u001b[39mf\u001b[39m\u001b[39m'\u001b[39m\u001b[39m{\u001b[39;00m\u001b[39mself\u001b[39m\u001b[39m.\u001b[39mprefix\u001b[39m}\u001b[39;00m\u001b[39mError loading data from \u001b[39m\u001b[39m{\u001b[39;00mimg_path\u001b[39m}\u001b[39;00m\u001b[39m\\n\u001b[39;00m\u001b[39m{\u001b[39;00mHELP_URL\u001b[39m}\u001b[39;00m\u001b[39m'\u001b[39m) \u001b[39mfrom\u001b[39;00m \u001b[39me\u001b[39;00m\n\u001b[0;32m    120\u001b[0m \u001b[39mif\u001b[39;00m \u001b[39mself\u001b[39m\u001b[39m.\u001b[39mfraction \u001b[39m<\u001b[39m \u001b[39m1\u001b[39m:\n\u001b[0;32m    121\u001b[0m     im_files \u001b[39m=\u001b[39m im_files[:\u001b[39mround\u001b[39m(\u001b[39mlen\u001b[39m(im_files) \u001b[39m*\u001b[39m \u001b[39mself\u001b[39m\u001b[39m.\u001b[39mfraction)]\n",
      "\u001b[1;31mFileNotFoundError\u001b[0m: \u001b[34m\u001b[1mtrain: \u001b[0mError loading data from C:\\Users\\Sujith\\Documents\\Projects\\armbo\\datasets\\datasets\\coco8-pose\\images\\train\nSee https://docs.ultralytics.com/yolov5/tutorials/train_custom_data"
     ]
    }
   ],
   "source": [
    "model.train(data='coco8-pose.yaml', epochs=100, imgsz=640)"
   ]
  },
  {
   "cell_type": "code",
   "execution_count": null,
   "metadata": {},
   "outputs": [],
   "source": []
  }
 ],
 "metadata": {
  "kernelspec": {
   "display_name": "yolo",
   "language": "python",
   "name": "python3"
  },
  "language_info": {
   "codemirror_mode": {
    "name": "ipython",
    "version": 3
   },
   "file_extension": ".py",
   "mimetype": "text/x-python",
   "name": "python",
   "nbconvert_exporter": "python",
   "pygments_lexer": "ipython3",
   "version": "3.10.11"
  },
  "orig_nbformat": 4
 },
 "nbformat": 4,
 "nbformat_minor": 2
}
