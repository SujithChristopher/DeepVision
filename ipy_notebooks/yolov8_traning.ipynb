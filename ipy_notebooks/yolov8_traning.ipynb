{
 "cells": [
  {
   "cell_type": "code",
   "execution_count": 1,
   "metadata": {},
   "outputs": [],
   "source": [
    "from ultralytics import YOLO\n",
    "import numpy as np\n",
    "import cv2\n",
    "import matplotlib.pyplot as plt\n",
    "import os"
   ]
  },
  {
   "cell_type": "code",
   "execution_count": 2,
   "metadata": {},
   "outputs": [],
   "source": [
    "model = YOLO('yolov8n-pose.pt')"
   ]
  },
  {
   "cell_type": "code",
   "execution_count": 5,
   "metadata": {},
   "outputs": [
    {
     "name": "stderr",
     "output_type": "stream",
     "text": [
      "New https://pypi.org/project/ultralytics/8.0.112 available  Update with 'pip install -U ultralytics'\n",
      "Ultralytics YOLOv8.0.101  Python-3.10.11 torch-2.0.1+cpu CPU\n",
      "\u001b[34m\u001b[1myolo\\engine\\trainer: \u001b[0mtask=pose, mode=train, model=yolov8n-pose.pt, data=..\\dataset\\dataset.yaml, epochs=1, patience=50, batch=16, imgsz=640, save=True, save_period=-1, cache=False, device=None, workers=8, project=None, name=None, exist_ok=False, pretrained=False, optimizer=SGD, verbose=True, seed=0, deterministic=True, single_cls=False, rect=False, cos_lr=False, close_mosaic=0, resume=False, amp=True, overlap_mask=True, mask_ratio=4, dropout=0.0, val=True, split=val, save_json=False, save_hybrid=False, conf=None, iou=0.7, max_det=300, half=False, dnn=False, plots=True, source=None, show=False, save_txt=False, save_conf=False, save_crop=False, show_labels=True, show_conf=True, vid_stride=1, line_width=None, visualize=False, augment=False, agnostic_nms=False, classes=None, retina_masks=False, boxes=True, format=torchscript, keras=False, optimize=False, int8=False, dynamic=False, simplify=False, opset=None, workspace=4, nms=False, lr0=0.01, lrf=0.01, momentum=0.937, weight_decay=0.0005, warmup_epochs=3.0, warmup_momentum=0.8, warmup_bias_lr=0.1, box=7.5, cls=0.5, dfl=1.5, pose=12.0, kobj=1.0, label_smoothing=0.0, nbs=64, hsv_h=0.015, hsv_s=0.7, hsv_v=0.4, degrees=0.0, translate=0.1, scale=0.5, shear=0.0, perspective=0.0, flipud=0.0, fliplr=0.5, mosaic=1.0, mixup=0.0, copy_paste=0.0, cfg=None, v5loader=False, tracker=botsort.yaml, save_dir=runs\\pose\\train3\n",
      "\n",
      "                   from  n    params  module                                       arguments                     \n",
      "  0                  -1  1       464  ultralytics.nn.modules.conv.Conv             [3, 16, 3, 2]                 \n",
      "  1                  -1  1      4672  ultralytics.nn.modules.conv.Conv             [16, 32, 3, 2]                \n",
      "  2                  -1  1      7360  ultralytics.nn.modules.block.C2f             [32, 32, 1, True]             \n",
      "  3                  -1  1     18560  ultralytics.nn.modules.conv.Conv             [32, 64, 3, 2]                \n",
      "  4                  -1  2     49664  ultralytics.nn.modules.block.C2f             [64, 64, 2, True]             \n",
      "  5                  -1  1     73984  ultralytics.nn.modules.conv.Conv             [64, 128, 3, 2]               \n",
      "  6                  -1  2    197632  ultralytics.nn.modules.block.C2f             [128, 128, 2, True]           \n",
      "  7                  -1  1    295424  ultralytics.nn.modules.conv.Conv             [128, 256, 3, 2]              \n",
      "  8                  -1  1    460288  ultralytics.nn.modules.block.C2f             [256, 256, 1, True]           \n",
      "  9                  -1  1    164608  ultralytics.nn.modules.block.SPPF            [256, 256, 5]                 \n",
      " 10                  -1  1         0  torch.nn.modules.upsampling.Upsample         [None, 2, 'nearest']          \n",
      " 11             [-1, 6]  1         0  ultralytics.nn.modules.conv.Concat           [1]                           \n",
      " 12                  -1  1    148224  ultralytics.nn.modules.block.C2f             [384, 128, 1]                 \n",
      " 13                  -1  1         0  torch.nn.modules.upsampling.Upsample         [None, 2, 'nearest']          \n",
      " 14             [-1, 4]  1         0  ultralytics.nn.modules.conv.Concat           [1]                           \n",
      " 15                  -1  1     37248  ultralytics.nn.modules.block.C2f             [192, 64, 1]                  \n",
      " 16                  -1  1     36992  ultralytics.nn.modules.conv.Conv             [64, 64, 3, 2]                \n",
      " 17            [-1, 12]  1         0  ultralytics.nn.modules.conv.Concat           [1]                           \n",
      " 18                  -1  1    123648  ultralytics.nn.modules.block.C2f             [192, 128, 1]                 \n",
      " 19                  -1  1    147712  ultralytics.nn.modules.conv.Conv             [128, 128, 3, 2]              \n",
      " 20             [-1, 9]  1         0  ultralytics.nn.modules.conv.Concat           [1]                           \n",
      " 21                  -1  1    493056  ultralytics.nn.modules.block.C2f             [384, 256, 1]                 \n",
      " 22        [15, 18, 21]  1    823633  ultralytics.nn.modules.head.Pose             [1, [5, 2], [64, 128, 256]]   \n",
      "YOLOv8n-pose summary: 250 layers, 3083169 parameters, 3083153 gradients, 8.4 GFLOPs\n",
      "\n",
      "Transferred 397/397 items from pretrained weights\n",
      "\u001b[34m\u001b[1moptimizer:\u001b[0m SGD(lr=0.01) with parameter groups 63 weight(decay=0.0), 73 weight(decay=0.0005), 72 bias\n"
     ]
    },
    {
     "ename": "FileNotFoundError",
     "evalue": "\u001b[34m\u001b[1mtrain: \u001b[0mError loading data from C:\\Users\\Sujith\\Documents\\Projects\\DeepVision\\dataset\\dataset_processed_np\\images\\train\nSee https://docs.ultralytics.com/yolov5/tutorials/train_custom_data",
     "output_type": "error",
     "traceback": [
      "\u001b[1;31m---------------------------------------------------------------------------\u001b[0m",
      "\u001b[1;31mAssertionError\u001b[0m                            Traceback (most recent call last)",
      "File \u001b[1;32mc:\\Users\\Sujith\\anaconda3\\envs\\py310\\lib\\site-packages\\ultralytics\\yolo\\data\\base.py:110\u001b[0m, in \u001b[0;36mBaseDataset.get_img_files\u001b[1;34m(self, img_path)\u001b[0m\n\u001b[0;32m    109\u001b[0m     \u001b[39m# self.img_files = sorted([x for x in f if x.suffix[1:].lower() in IMG_FORMATS])  # pathlib\u001b[39;00m\n\u001b[1;32m--> 110\u001b[0m     \u001b[39massert\u001b[39;00m im_files, \u001b[39mf\u001b[39m\u001b[39m'\u001b[39m\u001b[39m{\u001b[39;00m\u001b[39mself\u001b[39m\u001b[39m.\u001b[39mprefix\u001b[39m}\u001b[39;00m\u001b[39mNo images found\u001b[39m\u001b[39m'\u001b[39m\n\u001b[0;32m    111\u001b[0m \u001b[39mexcept\u001b[39;00m \u001b[39mException\u001b[39;00m \u001b[39mas\u001b[39;00m e:\n",
      "\u001b[1;31mAssertionError\u001b[0m: \u001b[34m\u001b[1mtrain: \u001b[0mNo images found",
      "\nThe above exception was the direct cause of the following exception:\n",
      "\u001b[1;31mFileNotFoundError\u001b[0m                         Traceback (most recent call last)",
      "Cell \u001b[1;32mIn[5], line 1\u001b[0m\n\u001b[1;32m----> 1\u001b[0m model\u001b[39m.\u001b[39;49mtrain(data\u001b[39m=\u001b[39;49m\u001b[39mr\u001b[39;49m\u001b[39m'\u001b[39;49m\u001b[39m..\u001b[39;49m\u001b[39m\\\u001b[39;49m\u001b[39mdataset\u001b[39;49m\u001b[39m\\\u001b[39;49m\u001b[39mdataset.yaml\u001b[39;49m\u001b[39m'\u001b[39;49m, epochs\u001b[39m=\u001b[39;49m\u001b[39m1\u001b[39;49m, plots\u001b[39m=\u001b[39;49m\u001b[39mTrue\u001b[39;49;00m)\n",
      "File \u001b[1;32mc:\\Users\\Sujith\\anaconda3\\envs\\py310\\lib\\site-packages\\ultralytics\\yolo\\engine\\model.py:371\u001b[0m, in \u001b[0;36mYOLO.train\u001b[1;34m(self, **kwargs)\u001b[0m\n\u001b[0;32m    369\u001b[0m     \u001b[39mself\u001b[39m\u001b[39m.\u001b[39mmodel \u001b[39m=\u001b[39m \u001b[39mself\u001b[39m\u001b[39m.\u001b[39mtrainer\u001b[39m.\u001b[39mmodel\n\u001b[0;32m    370\u001b[0m \u001b[39mself\u001b[39m\u001b[39m.\u001b[39mtrainer\u001b[39m.\u001b[39mhub_session \u001b[39m=\u001b[39m \u001b[39mself\u001b[39m\u001b[39m.\u001b[39msession  \u001b[39m# attach optional HUB session\u001b[39;00m\n\u001b[1;32m--> 371\u001b[0m \u001b[39mself\u001b[39;49m\u001b[39m.\u001b[39;49mtrainer\u001b[39m.\u001b[39;49mtrain()\n\u001b[0;32m    372\u001b[0m \u001b[39m# Update model and cfg after training\u001b[39;00m\n\u001b[0;32m    373\u001b[0m \u001b[39mif\u001b[39;00m RANK \u001b[39min\u001b[39;00m (\u001b[39m-\u001b[39m\u001b[39m1\u001b[39m, \u001b[39m0\u001b[39m):\n",
      "File \u001b[1;32mc:\\Users\\Sujith\\anaconda3\\envs\\py310\\lib\\site-packages\\ultralytics\\yolo\\engine\\trainer.py:193\u001b[0m, in \u001b[0;36mBaseTrainer.train\u001b[1;34m(self)\u001b[0m\n\u001b[0;32m    191\u001b[0m         ddp_cleanup(\u001b[39mself\u001b[39m, \u001b[39mstr\u001b[39m(file))\n\u001b[0;32m    192\u001b[0m \u001b[39melse\u001b[39;00m:\n\u001b[1;32m--> 193\u001b[0m     \u001b[39mself\u001b[39;49m\u001b[39m.\u001b[39;49m_do_train(world_size)\n",
      "File \u001b[1;32mc:\\Users\\Sujith\\anaconda3\\envs\\py310\\lib\\site-packages\\ultralytics\\yolo\\engine\\trainer.py:270\u001b[0m, in \u001b[0;36mBaseTrainer._do_train\u001b[1;34m(self, world_size)\u001b[0m\n\u001b[0;32m    267\u001b[0m \u001b[39mif\u001b[39;00m world_size \u001b[39m>\u001b[39m \u001b[39m1\u001b[39m:\n\u001b[0;32m    268\u001b[0m     \u001b[39mself\u001b[39m\u001b[39m.\u001b[39m_setup_ddp(world_size)\n\u001b[1;32m--> 270\u001b[0m \u001b[39mself\u001b[39;49m\u001b[39m.\u001b[39;49m_setup_train(world_size)\n\u001b[0;32m    272\u001b[0m \u001b[39mself\u001b[39m\u001b[39m.\u001b[39mepoch_time \u001b[39m=\u001b[39m \u001b[39mNone\u001b[39;00m\n\u001b[0;32m    273\u001b[0m \u001b[39mself\u001b[39m\u001b[39m.\u001b[39mepoch_time_start \u001b[39m=\u001b[39m time\u001b[39m.\u001b[39mtime()\n",
      "File \u001b[1;32mc:\\Users\\Sujith\\anaconda3\\envs\\py310\\lib\\site-packages\\ultralytics\\yolo\\engine\\trainer.py:252\u001b[0m, in \u001b[0;36mBaseTrainer._setup_train\u001b[1;34m(self, world_size)\u001b[0m\n\u001b[0;32m    250\u001b[0m \u001b[39m# Dataloaders\u001b[39;00m\n\u001b[0;32m    251\u001b[0m batch_size \u001b[39m=\u001b[39m \u001b[39mself\u001b[39m\u001b[39m.\u001b[39mbatch_size \u001b[39m/\u001b[39m\u001b[39m/\u001b[39m world_size \u001b[39mif\u001b[39;00m world_size \u001b[39m>\u001b[39m \u001b[39m1\u001b[39m \u001b[39melse\u001b[39;00m \u001b[39mself\u001b[39m\u001b[39m.\u001b[39mbatch_size\n\u001b[1;32m--> 252\u001b[0m \u001b[39mself\u001b[39m\u001b[39m.\u001b[39mtrain_loader \u001b[39m=\u001b[39m \u001b[39mself\u001b[39;49m\u001b[39m.\u001b[39;49mget_dataloader(\u001b[39mself\u001b[39;49m\u001b[39m.\u001b[39;49mtrainset, batch_size\u001b[39m=\u001b[39;49mbatch_size, rank\u001b[39m=\u001b[39;49mRANK, mode\u001b[39m=\u001b[39;49m\u001b[39m'\u001b[39;49m\u001b[39mtrain\u001b[39;49m\u001b[39m'\u001b[39;49m)\n\u001b[0;32m    253\u001b[0m \u001b[39mif\u001b[39;00m RANK \u001b[39min\u001b[39;00m (\u001b[39m-\u001b[39m\u001b[39m1\u001b[39m, \u001b[39m0\u001b[39m):\n\u001b[0;32m    254\u001b[0m     \u001b[39mself\u001b[39m\u001b[39m.\u001b[39mtest_loader \u001b[39m=\u001b[39m \u001b[39mself\u001b[39m\u001b[39m.\u001b[39mget_dataloader(\u001b[39mself\u001b[39m\u001b[39m.\u001b[39mtestset, batch_size\u001b[39m=\u001b[39mbatch_size \u001b[39m*\u001b[39m \u001b[39m2\u001b[39m, rank\u001b[39m=\u001b[39m\u001b[39m-\u001b[39m\u001b[39m1\u001b[39m, mode\u001b[39m=\u001b[39m\u001b[39m'\u001b[39m\u001b[39mval\u001b[39m\u001b[39m'\u001b[39m)\n",
      "File \u001b[1;32mc:\\Users\\Sujith\\anaconda3\\envs\\py310\\lib\\site-packages\\ultralytics\\yolo\\v8\\detect\\train.py:59\u001b[0m, in \u001b[0;36mDetectionTrainer.get_dataloader\u001b[1;34m(self, dataset_path, batch_size, rank, mode)\u001b[0m\n\u001b[0;32m     57\u001b[0m \u001b[39massert\u001b[39;00m mode \u001b[39min\u001b[39;00m [\u001b[39m'\u001b[39m\u001b[39mtrain\u001b[39m\u001b[39m'\u001b[39m, \u001b[39m'\u001b[39m\u001b[39mval\u001b[39m\u001b[39m'\u001b[39m]\n\u001b[0;32m     58\u001b[0m \u001b[39mwith\u001b[39;00m torch_distributed_zero_first(rank):  \u001b[39m# init dataset *.cache only once if DDP\u001b[39;00m\n\u001b[1;32m---> 59\u001b[0m     dataset \u001b[39m=\u001b[39m \u001b[39mself\u001b[39;49m\u001b[39m.\u001b[39;49mbuild_dataset(dataset_path, mode, batch_size)\n\u001b[0;32m     60\u001b[0m shuffle \u001b[39m=\u001b[39m mode \u001b[39m==\u001b[39m \u001b[39m'\u001b[39m\u001b[39mtrain\u001b[39m\u001b[39m'\u001b[39m\n\u001b[0;32m     61\u001b[0m \u001b[39mif\u001b[39;00m \u001b[39mgetattr\u001b[39m(dataset, \u001b[39m'\u001b[39m\u001b[39mrect\u001b[39m\u001b[39m'\u001b[39m, \u001b[39mFalse\u001b[39;00m) \u001b[39mand\u001b[39;00m shuffle:\n",
      "File \u001b[1;32mc:\\Users\\Sujith\\anaconda3\\envs\\py310\\lib\\site-packages\\ultralytics\\yolo\\v8\\detect\\train.py:33\u001b[0m, in \u001b[0;36mDetectionTrainer.build_dataset\u001b[1;34m(self, img_path, mode, batch)\u001b[0m\n\u001b[0;32m     25\u001b[0m \u001b[39m\u001b[39m\u001b[39m\"\"\"Build YOLO Dataset\u001b[39;00m\n\u001b[0;32m     26\u001b[0m \n\u001b[0;32m     27\u001b[0m \u001b[39mArgs:\u001b[39;00m\n\u001b[1;32m   (...)\u001b[0m\n\u001b[0;32m     30\u001b[0m \u001b[39m    batch (int, optional): Size of batches, this is for `rect`. Defaults to None.\u001b[39;00m\n\u001b[0;32m     31\u001b[0m \u001b[39m\"\"\"\u001b[39;00m\n\u001b[0;32m     32\u001b[0m gs \u001b[39m=\u001b[39m \u001b[39mmax\u001b[39m(\u001b[39mint\u001b[39m(de_parallel(\u001b[39mself\u001b[39m\u001b[39m.\u001b[39mmodel)\u001b[39m.\u001b[39mstride\u001b[39m.\u001b[39mmax() \u001b[39mif\u001b[39;00m \u001b[39mself\u001b[39m\u001b[39m.\u001b[39mmodel \u001b[39melse\u001b[39;00m \u001b[39m0\u001b[39m), \u001b[39m32\u001b[39m)\n\u001b[1;32m---> 33\u001b[0m \u001b[39mreturn\u001b[39;00m build_yolo_dataset(\u001b[39mself\u001b[39;49m\u001b[39m.\u001b[39;49margs, img_path, batch, \u001b[39mself\u001b[39;49m\u001b[39m.\u001b[39;49mdata, mode\u001b[39m=\u001b[39;49mmode, rect\u001b[39m=\u001b[39;49mmode \u001b[39m==\u001b[39;49m \u001b[39m'\u001b[39;49m\u001b[39mval\u001b[39;49m\u001b[39m'\u001b[39;49m, stride\u001b[39m=\u001b[39;49mgs)\n",
      "File \u001b[1;32mc:\\Users\\Sujith\\anaconda3\\envs\\py310\\lib\\site-packages\\ultralytics\\yolo\\data\\build.py:74\u001b[0m, in \u001b[0;36mbuild_yolo_dataset\u001b[1;34m(cfg, img_path, batch, data_info, mode, rect, stride)\u001b[0m\n\u001b[0;32m     72\u001b[0m \u001b[39mdef\u001b[39;00m \u001b[39mbuild_yolo_dataset\u001b[39m(cfg, img_path, batch, data_info, mode\u001b[39m=\u001b[39m\u001b[39m'\u001b[39m\u001b[39mtrain\u001b[39m\u001b[39m'\u001b[39m, rect\u001b[39m=\u001b[39m\u001b[39mFalse\u001b[39;00m, stride\u001b[39m=\u001b[39m\u001b[39m32\u001b[39m):\n\u001b[0;32m     73\u001b[0m \u001b[39m    \u001b[39m\u001b[39m\"\"\"Build YOLO Dataset\"\"\"\u001b[39;00m\n\u001b[1;32m---> 74\u001b[0m     \u001b[39mreturn\u001b[39;00m YOLODataset(\n\u001b[0;32m     75\u001b[0m         img_path\u001b[39m=\u001b[39;49mimg_path,\n\u001b[0;32m     76\u001b[0m         imgsz\u001b[39m=\u001b[39;49mcfg\u001b[39m.\u001b[39;49mimgsz,\n\u001b[0;32m     77\u001b[0m         batch_size\u001b[39m=\u001b[39;49mbatch,\n\u001b[0;32m     78\u001b[0m         augment\u001b[39m=\u001b[39;49mmode \u001b[39m==\u001b[39;49m \u001b[39m'\u001b[39;49m\u001b[39mtrain\u001b[39;49m\u001b[39m'\u001b[39;49m,  \u001b[39m# augmentation\u001b[39;49;00m\n\u001b[0;32m     79\u001b[0m         hyp\u001b[39m=\u001b[39;49mcfg,  \u001b[39m# TODO: probably add a get_hyps_from_cfg function\u001b[39;49;00m\n\u001b[0;32m     80\u001b[0m         rect\u001b[39m=\u001b[39;49mcfg\u001b[39m.\u001b[39;49mrect \u001b[39mor\u001b[39;49;00m rect,  \u001b[39m# rectangular batches\u001b[39;49;00m\n\u001b[0;32m     81\u001b[0m         cache\u001b[39m=\u001b[39;49mcfg\u001b[39m.\u001b[39;49mcache \u001b[39mor\u001b[39;49;00m \u001b[39mNone\u001b[39;49;00m,\n\u001b[0;32m     82\u001b[0m         single_cls\u001b[39m=\u001b[39;49mcfg\u001b[39m.\u001b[39;49msingle_cls \u001b[39mor\u001b[39;49;00m \u001b[39mFalse\u001b[39;49;00m,\n\u001b[0;32m     83\u001b[0m         stride\u001b[39m=\u001b[39;49m\u001b[39mint\u001b[39;49m(stride),\n\u001b[0;32m     84\u001b[0m         pad\u001b[39m=\u001b[39;49m\u001b[39m0.0\u001b[39;49m \u001b[39mif\u001b[39;49;00m mode \u001b[39m==\u001b[39;49m \u001b[39m'\u001b[39;49m\u001b[39mtrain\u001b[39;49m\u001b[39m'\u001b[39;49m \u001b[39melse\u001b[39;49;00m \u001b[39m0.5\u001b[39;49m,\n\u001b[0;32m     85\u001b[0m         prefix\u001b[39m=\u001b[39;49mcolorstr(\u001b[39mf\u001b[39;49m\u001b[39m'\u001b[39;49m\u001b[39m{\u001b[39;49;00mmode\u001b[39m}\u001b[39;49;00m\u001b[39m: \u001b[39;49m\u001b[39m'\u001b[39;49m),\n\u001b[0;32m     86\u001b[0m         use_segments\u001b[39m=\u001b[39;49mcfg\u001b[39m.\u001b[39;49mtask \u001b[39m==\u001b[39;49m \u001b[39m'\u001b[39;49m\u001b[39msegment\u001b[39;49m\u001b[39m'\u001b[39;49m,\n\u001b[0;32m     87\u001b[0m         use_keypoints\u001b[39m=\u001b[39;49mcfg\u001b[39m.\u001b[39;49mtask \u001b[39m==\u001b[39;49m \u001b[39m'\u001b[39;49m\u001b[39mpose\u001b[39;49m\u001b[39m'\u001b[39;49m,\n\u001b[0;32m     88\u001b[0m         classes\u001b[39m=\u001b[39;49mcfg\u001b[39m.\u001b[39;49mclasses,\n\u001b[0;32m     89\u001b[0m         data\u001b[39m=\u001b[39;49mdata_info)\n",
      "File \u001b[1;32mc:\\Users\\Sujith\\anaconda3\\envs\\py310\\lib\\site-packages\\ultralytics\\yolo\\data\\dataset.py:39\u001b[0m, in \u001b[0;36mYOLODataset.__init__\u001b[1;34m(self, data, use_segments, use_keypoints, *args, **kwargs)\u001b[0m\n\u001b[0;32m     37\u001b[0m \u001b[39mself\u001b[39m\u001b[39m.\u001b[39mdata \u001b[39m=\u001b[39m data\n\u001b[0;32m     38\u001b[0m \u001b[39massert\u001b[39;00m \u001b[39mnot\u001b[39;00m (\u001b[39mself\u001b[39m\u001b[39m.\u001b[39muse_segments \u001b[39mand\u001b[39;00m \u001b[39mself\u001b[39m\u001b[39m.\u001b[39muse_keypoints), \u001b[39m'\u001b[39m\u001b[39mCan not use both segments and keypoints.\u001b[39m\u001b[39m'\u001b[39m\n\u001b[1;32m---> 39\u001b[0m \u001b[39msuper\u001b[39m()\u001b[39m.\u001b[39m\u001b[39m__init__\u001b[39m(\u001b[39m*\u001b[39margs, \u001b[39m*\u001b[39m\u001b[39m*\u001b[39mkwargs)\n",
      "File \u001b[1;32mc:\\Users\\Sujith\\anaconda3\\envs\\py310\\lib\\site-packages\\ultralytics\\yolo\\data\\base.py:68\u001b[0m, in \u001b[0;36mBaseDataset.__init__\u001b[1;34m(self, img_path, imgsz, cache, augment, hyp, prefix, rect, batch_size, stride, pad, single_cls, classes)\u001b[0m\n\u001b[0;32m     66\u001b[0m \u001b[39mself\u001b[39m\u001b[39m.\u001b[39msingle_cls \u001b[39m=\u001b[39m single_cls\n\u001b[0;32m     67\u001b[0m \u001b[39mself\u001b[39m\u001b[39m.\u001b[39mprefix \u001b[39m=\u001b[39m prefix\n\u001b[1;32m---> 68\u001b[0m \u001b[39mself\u001b[39m\u001b[39m.\u001b[39mim_files \u001b[39m=\u001b[39m \u001b[39mself\u001b[39;49m\u001b[39m.\u001b[39;49mget_img_files(\u001b[39mself\u001b[39;49m\u001b[39m.\u001b[39;49mimg_path)\n\u001b[0;32m     69\u001b[0m \u001b[39mself\u001b[39m\u001b[39m.\u001b[39mlabels \u001b[39m=\u001b[39m \u001b[39mself\u001b[39m\u001b[39m.\u001b[39mget_labels()\n\u001b[0;32m     70\u001b[0m \u001b[39mself\u001b[39m\u001b[39m.\u001b[39mupdate_labels(include_class\u001b[39m=\u001b[39mclasses)  \u001b[39m# single_cls and include_class\u001b[39;00m\n",
      "File \u001b[1;32mc:\\Users\\Sujith\\anaconda3\\envs\\py310\\lib\\site-packages\\ultralytics\\yolo\\data\\base.py:112\u001b[0m, in \u001b[0;36mBaseDataset.get_img_files\u001b[1;34m(self, img_path)\u001b[0m\n\u001b[0;32m    110\u001b[0m     \u001b[39massert\u001b[39;00m im_files, \u001b[39mf\u001b[39m\u001b[39m'\u001b[39m\u001b[39m{\u001b[39;00m\u001b[39mself\u001b[39m\u001b[39m.\u001b[39mprefix\u001b[39m}\u001b[39;00m\u001b[39mNo images found\u001b[39m\u001b[39m'\u001b[39m\n\u001b[0;32m    111\u001b[0m \u001b[39mexcept\u001b[39;00m \u001b[39mException\u001b[39;00m \u001b[39mas\u001b[39;00m e:\n\u001b[1;32m--> 112\u001b[0m     \u001b[39mraise\u001b[39;00m \u001b[39mFileNotFoundError\u001b[39;00m(\u001b[39mf\u001b[39m\u001b[39m'\u001b[39m\u001b[39m{\u001b[39;00m\u001b[39mself\u001b[39m\u001b[39m.\u001b[39mprefix\u001b[39m}\u001b[39;00m\u001b[39mError loading data from \u001b[39m\u001b[39m{\u001b[39;00mimg_path\u001b[39m}\u001b[39;00m\u001b[39m\\n\u001b[39;00m\u001b[39m{\u001b[39;00mHELP_URL\u001b[39m}\u001b[39;00m\u001b[39m'\u001b[39m) \u001b[39mfrom\u001b[39;00m \u001b[39me\u001b[39;00m\n\u001b[0;32m    113\u001b[0m \u001b[39mreturn\u001b[39;00m im_files\n",
      "\u001b[1;31mFileNotFoundError\u001b[0m: \u001b[34m\u001b[1mtrain: \u001b[0mError loading data from C:\\Users\\Sujith\\Documents\\Projects\\DeepVision\\dataset\\dataset_processed_np\\images\\train\nSee https://docs.ultralytics.com/yolov5/tutorials/train_custom_data"
     ]
    }
   ],
   "source": [
    "model.train(data=r'..\\dataset\\dataset.yaml', epochs=1, plots=True)"
   ]
  },
  {
   "cell_type": "code",
   "execution_count": 4,
   "metadata": {},
   "outputs": [],
   "source": [
    "model = YOLO('aruco.pt')"
   ]
  },
  {
   "cell_type": "code",
   "execution_count": 5,
   "metadata": {},
   "outputs": [],
   "source": [
    "_pth = os.path.abspath(os.path.join(os.getcwd(), os.pardir))\n",
    "_pth = os.path.join(_pth, 'ArUco_detection', \"images\")\n",
    "image_list = os.listdir(_pth)"
   ]
  },
  {
   "cell_type": "code",
   "execution_count": 8,
   "metadata": {},
   "outputs": [
    {
     "name": "stdout",
     "output_type": "stream",
     "text": [
      "[[     417.96      475.64]\n",
      " [     418.31      506.54]\n",
      " [     390.88      506.46]\n",
      " [     385.09      469.66]\n",
      " [     419.25      472.18]]\n"
     ]
    }
   ],
   "source": [
    "count = 0\n",
    "corners = []\n",
    "for image_name in image_list:\n",
    "    result = model.predict(os.path.join(_pth, image_name), verbose=False)\n",
    "    print(result[0].keypoints.data[0].numpy())\n",
    "    if result[0].boxes.data is not None:\n",
    "       count += 1 \n",
    "    break"
   ]
  },
  {
   "attachments": {},
   "cell_type": "markdown",
   "metadata": {},
   "source": []
  },
  {
   "cell_type": "code",
   "execution_count": 10,
   "metadata": {},
   "outputs": [
    {
     "data": {
      "text/plain": [
       "(608, 750, 3)"
      ]
     },
     "execution_count": 10,
     "metadata": {},
     "output_type": "execute_result"
    }
   ],
   "source": [
    "img = cv2.imread(os.path.join(_pth, image_list[0]))\n",
    "img.shape"
   ]
  },
  {
   "cell_type": "code",
   "execution_count": null,
   "metadata": {},
   "outputs": [],
   "source": []
  }
 ],
 "metadata": {
  "kernelspec": {
   "display_name": "py310",
   "language": "python",
   "name": "python3"
  },
  "language_info": {
   "codemirror_mode": {
    "name": "ipython",
    "version": 3
   },
   "file_extension": ".py",
   "mimetype": "text/x-python",
   "name": "python",
   "nbconvert_exporter": "python",
   "pygments_lexer": "ipython3",
   "version": "3.10.11"
  },
  "orig_nbformat": 4
 },
 "nbformat": 4,
 "nbformat_minor": 2
}
