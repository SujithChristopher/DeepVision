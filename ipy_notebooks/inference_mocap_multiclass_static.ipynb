{
 "cells": [
  {
   "cell_type": "code",
   "execution_count": 1,
   "metadata": {},
   "outputs": [],
   "source": [
    "from cv2 import aruco\n",
    "import cv2\n",
    "import numpy as np\n",
    "import matplotlib.pyplot as plt\n",
    "import msgpack as mp\n",
    "import msgpack_numpy as mpn\n",
    "import os\n",
    "\n",
    "from tqdm import tqdm\n",
    "import csv\n",
    "import pandas as pd\n",
    "import polars as pl\n",
    "import sys\n",
    "sys.path.append(os.path.join(os.getcwd(), '..'))\n",
    "from support.pd_support import *\n",
    "\n",
    "from numba import njit\n",
    "from datetime import datetime\n",
    "\n",
    "from support.pd_support import *"
   ]
  },
  {
   "cell_type": "code",
   "execution_count": 2,
   "metadata": {},
   "outputs": [],
   "source": [
    "_pth = os.getcwd()\n",
    "_pth = os.path.dirname(_pth)\n",
    "_parent_folder = \"cam_june_22_2023\"\n",
    "_calib_folder_name = \"calibration_00\"\n",
    "\n",
    "_folder_name = \"sk40_30_4_static_mocap_3\"\n",
    "# _folder_name = \"board\"\n",
    "\n",
    "_base_pth = os.path.join(_pth,\"recorded_data\",_parent_folder)\n",
    "\n",
    "_webcam_calib_folder = os.path.join(_pth,\"recorded_data\",_parent_folder,_calib_folder_name)\n",
    "_webcam_calib_folder = os.path.join(_webcam_calib_folder)\n",
    "_webcam_calib_pth = os.path.join( _webcam_calib_folder, \"webcam_calibration.msgpack\")\n",
    "\n",
    "with open(_webcam_calib_pth, \"rb\") as f:\n",
    "    webcam_calib = mp.Unpacker(f, object_hook=mpn.decode)\n",
    "    _temp = next(webcam_calib)\n",
    "    _webcam_cam_mat = _temp[0]\n",
    "    _webcam_dist = _temp[1]\n",
    "\n",
    "ar_lframe_pth = os.path.join(_webcam_calib_folder, \"webcam_rotmat_1.msgpack\")\n",
    "with open(ar_lframe_pth, \"rb\") as f:\n",
    "    ar_lframe = mp.Unpacker(f, object_hook=mpn.decode)\n",
    "    _ar_lframe_rot = next(ar_lframe)\n",
    "    _ar_lframe_org = next(ar_lframe)\n"
   ]
  },
  {
   "cell_type": "code",
   "execution_count": 3,
   "metadata": {},
   "outputs": [
    {
     "data": {
      "text/plain": [
       "array([[-0.01867946],\n",
       "       [ 0.01802945],\n",
       "       [ 0.65143383]])"
      ]
     },
     "execution_count": 3,
     "metadata": {},
     "output_type": "execute_result"
    }
   ],
   "source": [
    "_ar_lframe_org"
   ]
  },
  {
   "cell_type": "code",
   "execution_count": 4,
   "metadata": {},
   "outputs": [],
   "source": [
    "ARUCO_PARAMETERS = aruco.DetectorParameters_create()\n",
    "ARUCO_DICT = aruco.Dictionary_get(aruco.DICT_ARUCO_ORIGINAL)\n",
    "markerLength = 0.04\n",
    "markerSeparation = 0.01\n",
    "\n",
    "board = aruco.GridBoard_create(\n",
    "        markersX=1,\n",
    "        markersY=1,\n",
    "        markerLength=markerLength,\n",
    "        markerSeparation=markerSeparation,\n",
    "        dictionary=ARUCO_DICT)"
   ]
  },
  {
   "cell_type": "code",
   "execution_count": 5,
   "metadata": {},
   "outputs": [],
   "source": [
    "# timestamp\n",
    "ts = []\n",
    "ts_pth = os.path.join(_base_pth, _folder_name, \"webcam_timestamp.msgpack\")\n",
    "ts_file = open(ts_pth, \"rb\")\n",
    "ts_unpacker = mp.Unpacker(ts_file, object_hook=mpn.decode)\n",
    "for ts_data in ts_unpacker:\n",
    "    ts.append(ts_data)"
   ]
  },
  {
   "cell_type": "code",
   "execution_count": 6,
   "metadata": {},
   "outputs": [
    {
     "name": "stderr",
     "output_type": "stream",
     "text": [
      "142it [00:02, 68.09it/s]\n"
     ]
    }
   ],
   "source": [
    "_video_pth = os.path.join(_base_pth,_folder_name,\"webcam_color.msgpack\")\n",
    "_video_file = open(_video_pth, \"rb\")\n",
    "_video_data = mp.Unpacker(_video_file, object_hook=mpn.decode)\n",
    "\n",
    "default_ids = [0, 49, 80]\n",
    "\n",
    "data = {\"frame_id\":[],\"marker_ids\":[], \"corners\":[], \"tvec\":[], \"rvec\":[]}\n",
    "\n",
    "counter = 0\n",
    "\n",
    "for _frame in tqdm(_video_data):\n",
    "\n",
    "    shape = _frame.shape\n",
    "    gray = cv2.cvtColor(_frame, cv2.COLOR_BGR2GRAY)\n",
    "    corners, ids, rejectedImgPoints = aruco.detectMarkers(gray, ARUCO_DICT, parameters=ARUCO_PARAMETERS)\n",
    "\n",
    "    corners, ids, rejectedImgPoints, recoveredIds = aruco.refineDetectedMarkers(\n",
    "        image = gray,\n",
    "        board = board,\n",
    "        detectedCorners = corners,\n",
    "        detectedIds = ids,\n",
    "        rejectedCorners = rejectedImgPoints,\n",
    "        cameraMatrix = _webcam_cam_mat,\n",
    "        distCoeffs = _webcam_dist)\n",
    "\n",
    "    rotation_vectors, translation_vectors, _ = aruco.estimatePoseSingleMarkers(corners, 0.04, _webcam_cam_mat, _webcam_dist)\n",
    "\n",
    "    if ids is None:\n",
    "        data[\"frame_id\"].append(counter)\n",
    "        data[\"marker_ids\"].append(None)\n",
    "        data[\"corners\"].append(None)\n",
    "        data[\"tvec\"].append(None)\n",
    "        data[\"rvec\"].append(None)\n",
    "\n",
    "    if ids is not None:\n",
    "        data[\"frame_id\"].append(counter)\n",
    "        data[\"marker_ids\"].append(ids)\n",
    "        data[\"corners\"].append(corners)\n",
    "        data[\"tvec\"].append(translation_vectors)\n",
    "        data[\"rvec\"].append(rotation_vectors)\n",
    "\n",
    "    counter+=1\n",
    "\n",
    "\n",
    "_video_file.close()"
   ]
  },
  {
   "cell_type": "code",
   "execution_count": 7,
   "metadata": {},
   "outputs": [],
   "source": [
    "coordinate = {\"0\":{\"x\":[], \"y\":[], \"z\":[], \"rx\":[], \"ry\":[], \"rz\":[]},\n",
    "              \"49\":{\"x\":[], \"y\":[], \"z\":[], \"rx\":[], \"ry\":[], \"rz\":[]},\n",
    "              \"80\":{\"x\":[], \"y\":[], \"z\":[], \"rx\":[], \"ry\":[], \"rz\":[]}}\n",
    "\n",
    "doesnt_exist = [] # list of ids that doesnt exist in a frame\n",
    "\n",
    "for i in range(len(data[\"frame_id\"])):\n",
    "    if data[\"marker_ids\"][i] is not None:\n",
    "\n",
    "        if default_ids[0] not in data[\"marker_ids\"][i]:\n",
    "            doesnt_exist.append(default_ids[0])\n",
    "        if default_ids[1] not in data[\"marker_ids\"][i]:\n",
    "            doesnt_exist.append(default_ids[1])\n",
    "        if default_ids[2] not in data[\"marker_ids\"][i]:\n",
    "            doesnt_exist.append(default_ids[2])\n",
    "\n",
    "        for j in range(len(data[\"marker_ids\"][i])):\n",
    "            if data[\"marker_ids\"][i][j] in default_ids:\n",
    "                coordinate[str(data[\"marker_ids\"][i][j][0])][\"x\"].append(data[\"tvec\"][i][j][0][0])\n",
    "                coordinate[str(data[\"marker_ids\"][i][j][0])][\"y\"].append(data[\"tvec\"][i][j][0][1])\n",
    "                coordinate[str(data[\"marker_ids\"][i][j][0])][\"z\"].append(data[\"tvec\"][i][j][0][2])\n",
    "                coordinate[str(data[\"marker_ids\"][i][j][0])][\"rx\"].append(data[\"rvec\"][i][j][0][0])\n",
    "                coordinate[str(data[\"marker_ids\"][i][j][0])][\"ry\"].append(data[\"rvec\"][i][j][0][1])\n",
    "                coordinate[str(data[\"marker_ids\"][i][j][0])][\"rz\"].append(data[\"rvec\"][i][j][0][2])\n",
    "        for k in doesnt_exist:\n",
    "            coordinate[str(k)][\"x\"].append(np.nan)\n",
    "            coordinate[str(k)][\"y\"].append(np.nan)\n",
    "            coordinate[str(k)][\"z\"].append(np.nan)\n",
    "            coordinate[str(k)][\"rx\"].append(np.nan)\n",
    "            coordinate[str(k)][\"ry\"].append(np.nan)\n",
    "            coordinate[str(k)][\"rz\"].append(np.nan)\n",
    "        doesnt_exist = []\n",
    "    else:\n",
    "        for k in default_ids:\n",
    "            coordinate[str(k)][\"x\"].append(np.nan)\n",
    "            coordinate[str(k)][\"y\"].append(np.nan)\n",
    "            coordinate[str(k)][\"z\"].append(np.nan)\n",
    "            coordinate[str(k)][\"rx\"].append(np.nan)\n",
    "            coordinate[str(k)][\"ry\"].append(np.nan)\n",
    "            coordinate[str(k)][\"rz\"].append(np.nan)"
   ]
  },
  {
   "cell_type": "code",
   "execution_count": 8,
   "metadata": {},
   "outputs": [
    {
     "data": {
      "text/plain": [
       "<matplotlib.legend.Legend at 0x2e82bb751b0>"
      ]
     },
     "execution_count": 8,
     "metadata": {},
     "output_type": "execute_result"
    },
    {
     "data": {
      "image/png": "[encoded data removed]",
      "text/plain": [
       "<Figure size 640x480 with 1 Axes>"
      ]
     },
     "metadata": {},
     "output_type": "display_data"
    }
   ],
   "source": [
    "plt.plot(coordinate[\"0\"][\"x\"], label=\"x\")\n",
    "plt.plot(coordinate[\"49\"][\"x\"], label=\"1x\")\n",
    "plt.plot(coordinate[\"80\"][\"x\"], label=\"2x\")\n",
    "plt.legend()"
   ]
  },
  {
   "cell_type": "code",
   "execution_count": 9,
   "metadata": {},
   "outputs": [
    {
     "data": {
      "text/plain": [
       "<matplotlib.legend.Legend at 0x2e82bb3b100>"
      ]
     },
     "execution_count": 9,
     "metadata": {},
     "output_type": "execute_result"
    },
    {
     "data": {
      "image/png": "[encoded data removed]",
      "text/plain": [
       "<Figure size 640x480 with 1 Axes>"
      ]
     },
     "metadata": {},
     "output_type": "display_data"
    }
   ],
   "source": [
    "plt.plot(coordinate[\"0\"][\"y\"], label=\"y\")\n",
    "plt.plot(coordinate[\"49\"][\"y\"], label=\"1y\")\n",
    "plt.plot(coordinate[\"80\"][\"y\"], label=\"2y\")\n",
    "plt.legend()"
   ]
  },
  {
   "cell_type": "code",
   "execution_count": 10,
   "metadata": {},
   "outputs": [
    {
     "data": {
      "text/plain": [
       "<matplotlib.legend.Legend at 0x2e82c0d6950>"
      ]
     },
     "execution_count": 10,
     "metadata": {},
     "output_type": "execute_result"
    },
    {
     "data": {
      "image/png": "[encoded data removed]",
      "text/plain": [
       "<Figure size 640x480 with 1 Axes>"
      ]
     },
     "metadata": {},
     "output_type": "display_data"
    }
   ],
   "source": [
    "plt.plot(coordinate[\"0\"][\"z\"], label=\"z\")\n",
    "plt.plot(coordinate[\"49\"][\"z\"], label=\"1z\")\n",
    "plt.plot(coordinate[\"80\"][\"z\"], label=\"2z\")\n",
    "plt.legend()"
   ]
  },
  {
   "cell_type": "code",
   "execution_count": 11,
   "metadata": {},
   "outputs": [],
   "source": [
    "rmat = []\n",
    "for i in range(len(coordinate[\"0\"][\"x\"])):\n",
    "    rotation_vectors = np.array([coordinate[\"0\"][\"rx\"][i], coordinate[\"0\"][\"ry\"][i], coordinate[\"0\"][\"rz\"][i]])\n",
    "    rotation_matrix = cv2.Rodrigues(rotation_vectors)[0]\n",
    "    rmat.append(rotation_matrix)"
   ]
  },
  {
   "cell_type": "code",
   "execution_count": 12,
   "metadata": {},
   "outputs": [],
   "source": [
    "df_0 = pd.DataFrame({\"x\":coordinate[\"0\"][\"x\"], \"y\":coordinate[\"0\"][\"y\"], \"z\":coordinate[\"0\"][\"z\"]})\n",
    "df_0 = pl.from_pandas(df_0)\n",
    "\n",
    "tcoor_0 = {\"x\":[], \"y\":[], \"z\":[]}\n",
    "for i in range(len(coordinate[\"0\"][\"x\"])):\n",
    "    val = _ar_lframe_rot.T @ (df_0[i].to_numpy().reshape(3,1) - _ar_lframe_org)\n",
    "\n",
    "    if val is None:\n",
    "        x = np.nan\n",
    "        y = np.nan\n",
    "        z = np.nan\n",
    "    else:\n",
    "        x = val[0][0]\n",
    "        y = val[1][0]\n",
    "        z = val[2][0]\n",
    "    tcoor_0[\"x\"].append(x)\n",
    "    tcoor_0[\"y\"].append(y)\n",
    "    tcoor_0[\"z\"].append(z)\n",
    "\n",
    "df_49 = pd.DataFrame({\"x\":coordinate[\"49\"][\"x\"], \"y\":coordinate[\"49\"][\"y\"], \"z\":coordinate[\"49\"][\"z\"]})\n",
    "df_49 = pl.from_pandas(df_49)\n",
    "\n",
    "tcoor_49 = {\"x\":[], \"y\":[], \"z\":[]}\n",
    "for i in range(len(coordinate[\"49\"][\"x\"])):\n",
    "    val = _ar_lframe_rot.T @ (df_49[i].to_numpy().reshape(3,1) - _ar_lframe_org)\n",
    "\n",
    "    if val is None:\n",
    "        x = np.nan\n",
    "        y = np.nan\n",
    "        z = np.nan\n",
    "    else:\n",
    "        x = val[0][0]\n",
    "        y = val[1][0]\n",
    "        z = val[2][0]\n",
    "    tcoor_49[\"x\"].append(x)\n",
    "    tcoor_49[\"y\"].append(y)\n",
    "    tcoor_49[\"z\"].append(z)\n",
    "\n",
    "df_80 = pd.DataFrame({\"x\":coordinate[\"80\"][\"x\"], \"y\":coordinate[\"80\"][\"y\"], \"z\":coordinate[\"80\"][\"z\"]})\n",
    "df_80 = pl.from_pandas(df_80)\n",
    "\n",
    "tcoor_80 = {\"x\":[], \"y\":[], \"z\":[]}\n",
    "for i in range(len(coordinate[\"80\"][\"x\"])):\n",
    "    val = _ar_lframe_rot.T @ (df_80[i].to_numpy().reshape(3,1) - _ar_lframe_org)\n",
    "\n",
    "    if val is None:\n",
    "        x = np.nan\n",
    "        y = np.nan\n",
    "        z = np.nan\n",
    "    else:\n",
    "        x = val[0][0]\n",
    "        y = val[1][0]\n",
    "        z = val[2][0]\n",
    "    tcoor_80[\"x\"].append(x)\n",
    "    tcoor_80[\"y\"].append(y)\n",
    "    tcoor_80[\"z\"].append(z)"
   ]
  },
  {
   "cell_type": "code",
   "execution_count": 13,
   "metadata": {},
   "outputs": [],
   "source": [
    "tcoor_df_0 = pd.DataFrame.from_dict(tcoor_0)\n",
    "tcoor_df_49 = pd.DataFrame.from_dict(tcoor_49)\n",
    "tcoor_df_80 = pd.DataFrame.from_dict(tcoor_80)"
   ]
  },
  {
   "cell_type": "code",
   "execution_count": 14,
   "metadata": {},
   "outputs": [
    {
     "data": {
      "text/plain": [
       "<matplotlib.legend.Legend at 0x2e82d98a380>"
      ]
     },
     "execution_count": 14,
     "metadata": {},
     "output_type": "execute_result"
    },
    {
     "data": {
      "image/png": "[encoded data removed]",
      "text/plain": [
       "<Figure size 640x480 with 1 Axes>"
      ]
     },
     "metadata": {},
     "output_type": "display_data"
    }
   ],
   "source": [
    "plt.plot(tcoor_0[\"x\"], label=\"x\")\n",
    "plt.plot(tcoor_0[\"y\"], label=\"y\")\n",
    "plt.plot(tcoor_0[\"z\"], label=\"z\")\n",
    "plt.legend()"
   ]
  },
  {
   "cell_type": "code",
   "execution_count": 15,
   "metadata": {},
   "outputs": [],
   "source": [
    "_mocap_pth = r\"C:\\Users\\CMC\\Documents\\openposelibs\\pose\\DeepVision\\recorded_data\\cam_june_22_2023\\sk40\\sk40_30_4_static_mocap_3.csv\"\n",
    "_mocap_df, st_time = read_rigid_body_csv(_mocap_pth)\n",
    "_mocap_df = add_datetime_col(_mocap_df, st_time, \"seconds\")"
   ]
  },
  {
   "cell_type": "code",
   "execution_count": 16,
   "metadata": {},
   "outputs": [],
   "source": [
    "_om = get_rb_marker_name(3)\n",
    "_xm = get_rb_marker_name(4)\n",
    "_zm = get_rb_marker_name(1)"
   ]
  },
  {
   "cell_type": "code",
   "execution_count": 17,
   "metadata": {},
   "outputs": [],
   "source": [
    "\"\"\"\n",
    "checking position\n",
    "defining initial frame of reference\n",
    "\"\"\"\n",
    "\n",
    "xvec = [_mocap_df[_xm[\"x\"]].iloc[0], _mocap_df[_xm[\"y\"]].iloc[0], _mocap_df[_xm[\"z\"]].iloc[0]]\n",
    "xvec = np.array(xvec).reshape(3,1)\n",
    "\n",
    "zvec = [_mocap_df[_zm[\"x\"]].iloc[0], _mocap_df[_zm[\"y\"]].iloc[0], _mocap_df[_zm[\"z\"]].iloc[0]]\n",
    "zvec = np.array(zvec).reshape(3,1)\n",
    "\n",
    "org = [_mocap_df[_om[\"x\"]].iloc[0], _mocap_df[_om[\"y\"]].iloc[0], _mocap_df[_om[\"z\"]].iloc[0]]\n",
    "org = np.array(org).reshape(3,1)\n",
    "\n",
    "v1 = xvec - org  # v1\n",
    "v2 = zvec - org  # v2\n",
    "\n",
    "vxnorm = v1 / np.linalg.norm(v1)\n",
    "\n",
    "vzcap = v2 - (vxnorm.T @ v2) * vxnorm\n",
    "vznorm = vzcap / np.linalg.norm(vzcap)\n",
    "\n",
    "vynorm = np.cross(vznorm.T[0], vxnorm.T[0]).reshape(3, 1)\n",
    "rotMat = np.hstack((vxnorm, vynorm, vznorm)) # rotation matrix"
   ]
  },
  {
   "cell_type": "code",
   "execution_count": 18,
   "metadata": {},
   "outputs": [],
   "source": [
    "@njit\n",
    "def apply_rot_mat(mc_val, rotMat, org):\n",
    "    return (rotMat.T @ (mc_val - org)).T[0]"
   ]
  },
  {
   "cell_type": "code",
   "execution_count": 19,
   "metadata": {},
   "outputs": [
    {
     "name": "stderr",
     "output_type": "stream",
     "text": [
      "100%|██████████| 781/781 [00:01<00:00, 569.24it/s]\n"
     ]
    }
   ],
   "source": [
    "# This cell is optimized to run faster using polars\n",
    "_mc_df = _mocap_df[[\"time\", _om[\"x\"], _om[\"y\"], _om[\"z\"]]].copy()\n",
    "_mc_df = _mc_df.rename(columns={_om[\"x\"]: \"x\", _om[\"y\"]: \"y\", _om[\"z\"]: \"z\"})\n",
    "# _mc_df = _mc_df.astype({\"x\": np.float64, \"y\": np.float64, \"z\": np.float64})\n",
    "\n",
    "_mc_pl_df = pl.from_pandas(_mc_df)\n",
    "\n",
    "my_dict = {\"x\":[],\"y\":[],\"z\":[]}\n",
    "\n",
    "for i in tqdm(range(len(_mc_df))):\n",
    "    _x, _y, _z = apply_rot_mat(_mc_pl_df[i, 1:].to_numpy().T, rotMat, org)\n",
    "    my_dict[\"x\"].append(_x)\n",
    "    my_dict[\"y\"].append(_y)\n",
    "    my_dict[\"z\"].append(_z)\t\n",
    "\n",
    "_mc_df[\"x\"] = my_dict[\"x\"]\n",
    "_mc_df[\"y\"] = my_dict[\"y\"]\n",
    "_mc_df[\"z\"] = my_dict[\"z\"]"
   ]
  },
  {
   "cell_type": "code",
   "execution_count": 20,
   "metadata": {},
   "outputs": [
    {
     "data": {
      "text/plain": [
       "<matplotlib.legend.Legend at 0x2e82da3e7a0>"
      ]
     },
     "execution_count": 20,
     "metadata": {},
     "output_type": "execute_result"
    },
    {
     "data": {
      "image/png": "[encoded data removed]",
      "text/plain": [
       "<Figure size 640x480 with 1 Axes>"
      ]
     },
     "metadata": {},
     "output_type": "display_data"
    }
   ],
   "source": [
    "plt.plot(_mocap_df[_om[\"x\"]], label=\"x\")\n",
    "plt.plot(_mocap_df[_om[\"y\"]], label=\"y\")\n",
    "plt.plot(_mocap_df[_om[\"z\"]], label=\"z\")\n",
    "plt.legend()"
   ]
  },
  {
   "cell_type": "code",
   "execution_count": 21,
   "metadata": {},
   "outputs": [],
   "source": [
    "from ultralytics import YOLO"
   ]
  },
  {
   "cell_type": "code",
   "execution_count": 22,
   "metadata": {},
   "outputs": [],
   "source": [
    "_model_name = \"kaggle_aruco_multiclass.pt\"\n",
    "_model_pth = os.path.join(os.getcwd(), \"..\", \"models\", _model_name)\n",
    "model = YOLO(_model_pth)"
   ]
  },
  {
   "cell_type": "code",
   "execution_count": 23,
   "metadata": {},
   "outputs": [
    {
     "name": "stderr",
     "output_type": "stream",
     "text": [
      "142it [00:21,  6.61it/s]\n"
     ]
    }
   ],
   "source": [
    "_video_pth = os.path.join(_base_pth,_folder_name,\"webcam_color.msgpack\")\n",
    "_video_file = open(_video_pth, \"rb\")\n",
    "_video_data = mp.Unpacker(_video_file, object_hook=mpn.decode)\n",
    "\n",
    "default_ids = [0, 49, 80]\n",
    "\n",
    "data_ml = {\"frame_id\":[],\"marker_ids\":[], \"corners\":[], \"tvec\":[], \"rvec\":[]}\n",
    "\n",
    "counter = 0\n",
    "val = None\n",
    "\n",
    "ids = None\n",
    "modelcorners = None\n",
    "translation_vectors = None\n",
    "rotation_vectors = None\n",
    "\n",
    "for _frame in tqdm(_video_data):\n",
    "\n",
    "    shape = _frame.shape\n",
    "    result = model(_frame, verbose=False)[0]  \n",
    "    modelcorners = []\n",
    "    for _keys in result.keypoints.data:\n",
    "        modelcorners.append(_keys[0:4].numpy())\n",
    "    modelcorners = np.array(modelcorners)\n",
    "\n",
    "    if len(result.boxes.cls.numpy()) != 0: # if there are any detections else None\n",
    "        _idx = result.boxes.cls.numpy()\n",
    "        ids = []\n",
    "        for i in _idx:\n",
    "            match i:\n",
    "                case 0:\n",
    "                    ids.append([0])\n",
    "                case 1:\n",
    "                    ids.append([49])\n",
    "                case 2:\n",
    "                    ids.append([80])\n",
    "        ids = np.array(ids, dtype=np.int32)\n",
    "    else:\n",
    "        ids = None\n",
    "\n",
    "    if len(modelcorners) != 0: # if there are any detections else skip\n",
    "\n",
    "        try:\n",
    "            rotation_vectors, translation_vectors, _ = aruco.estimatePoseSingleMarkers(modelcorners, 0.04, _webcam_cam_mat, _webcam_dist)\n",
    "        except:\n",
    "            ids = None\n",
    "\n",
    "    if ids is None:\n",
    "        data_ml[\"frame_id\"].append(counter)\n",
    "        data_ml[\"marker_ids\"].append(None)\n",
    "        data_ml[\"corners\"].append(None)\n",
    "        data_ml[\"tvec\"].append(None)\n",
    "        data_ml[\"rvec\"].append(None)\n",
    "\n",
    "    if ids is not None:\n",
    "        data_ml[\"frame_id\"].append(counter)\n",
    "        data_ml[\"marker_ids\"].append(ids)\n",
    "        data_ml[\"corners\"].append(modelcorners)\n",
    "        data_ml[\"tvec\"].append(translation_vectors)\n",
    "        data_ml[\"rvec\"].append(rotation_vectors)\n",
    "\n",
    "    counter+=1\n",
    "    # break\n",
    "\n",
    "\n",
    "_video_file.close()"
   ]
  },
  {
   "cell_type": "code",
   "execution_count": 24,
   "metadata": {},
   "outputs": [],
   "source": [
    "coordinate_ml = {\"0\":{\"x\":[], \"y\":[], \"z\":[], \"rx\":[], \"ry\":[], \"rz\":[]},\n",
    "              \"49\":{\"x\":[], \"y\":[], \"z\":[], \"rx\":[], \"ry\":[], \"rz\":[]},\n",
    "              \"80\":{\"x\":[], \"y\":[], \"z\":[], \"rx\":[], \"ry\":[], \"rz\":[]}}\n",
    "\n",
    "doesnt_exist = [] # list of ids that doesnt exist in a frame\n",
    "default_ids = [0, 49, 80]\n",
    "\n",
    "for i in range(len(data_ml[\"frame_id\"])):\n",
    "    if data_ml[\"marker_ids\"][i] is not None:\n",
    "\n",
    "        if default_ids[0] not in data_ml[\"marker_ids\"][i]:\n",
    "            doesnt_exist.append(default_ids[0])\n",
    "        if default_ids[1] not in data_ml[\"marker_ids\"][i]:\n",
    "            doesnt_exist.append(default_ids[1])\n",
    "        if default_ids[2] not in data_ml[\"marker_ids\"][i]:\n",
    "            doesnt_exist.append(default_ids[2])\n",
    "\n",
    "        for j in range(len(data_ml[\"marker_ids\"][i])):\n",
    "            if data_ml[\"marker_ids\"][i][j] in default_ids:\n",
    "                coordinate_ml[str(data_ml[\"marker_ids\"][i][j][0])][\"x\"].append( data_ml[\"tvec\"][i][j][0][0])\n",
    "                coordinate_ml[str(data_ml[\"marker_ids\"][i][j][0])][\"y\"].append( data_ml[\"tvec\"][i][j][0][1])\n",
    "                coordinate_ml[str(data_ml[\"marker_ids\"][i][j][0])][\"z\"].append( data_ml[\"tvec\"][i][j][0][2])\n",
    "                coordinate_ml[str(data_ml[\"marker_ids\"][i][j][0])][\"rx\"].append(data_ml[\"rvec\"][i][j][0][0])\n",
    "                coordinate_ml[str(data_ml[\"marker_ids\"][i][j][0])][\"ry\"].append(data_ml[\"rvec\"][i][j][0][1])\n",
    "                coordinate_ml[str(data_ml[\"marker_ids\"][i][j][0])][\"rz\"].append(data_ml[\"rvec\"][i][j][0][2])\n",
    "        for k in doesnt_exist:\n",
    "            coordinate_ml[str(k)][\"x\"].append(np.nan)\n",
    "            coordinate_ml[str(k)][\"y\"].append(np.nan)\n",
    "            coordinate_ml[str(k)][\"z\"].append(np.nan)\n",
    "            coordinate_ml[str(k)][\"rx\"].append(np.nan)\n",
    "            coordinate_ml[str(k)][\"ry\"].append(np.nan)\n",
    "            coordinate_ml[str(k)][\"rz\"].append(np.nan)\n",
    "        doesnt_exist = []\n",
    "    else:\n",
    "        for k in default_ids:\n",
    "            coordinate_ml[str(k)][\"x\"].append(np.nan)\n",
    "            coordinate_ml[str(k)][\"y\"].append(np.nan)\n",
    "            coordinate_ml[str(k)][\"z\"].append(np.nan)\n",
    "            coordinate_ml[str(k)][\"rx\"].append(np.nan)\n",
    "            coordinate_ml[str(k)][\"ry\"].append(np.nan)\n",
    "            coordinate_ml[str(k)][\"rz\"].append(np.nan)"
   ]
  },
  {
   "cell_type": "code",
   "execution_count": 25,
   "metadata": {},
   "outputs": [
    {
     "name": "stdout",
     "output_type": "stream",
     "text": [
      "142 142 142\n"
     ]
    }
   ],
   "source": [
    "print(len(coordinate_ml[\"0\"][\"x\"]), len(coordinate_ml[\"0\"][\"y\"]), len(coordinate_ml[\"0\"][\"z\"]))"
   ]
  },
  {
   "cell_type": "code",
   "execution_count": 26,
   "metadata": {},
   "outputs": [],
   "source": [
    "df_0_ml = pd.DataFrame(coordinate_ml[\"0\"])\n",
    "df_49_ml = pd.DataFrame(coordinate_ml[\"49\"])\n",
    "df_80_ml = pd.DataFrame(coordinate_ml[\"80\"])"
   ]
  },
  {
   "cell_type": "code",
   "execution_count": 27,
   "metadata": {},
   "outputs": [],
   "source": [
    "translation_correction = np.array([0.045, -0.05, 0.045]).reshape(3, 1)"
   ]
  },
  {
   "cell_type": "code",
   "execution_count": 28,
   "metadata": {},
   "outputs": [],
   "source": [
    "df_0_ml = pl.from_pandas(df_0_ml)\n",
    "\n",
    "tcoor_0_ml = {\"x\":[], \"y\":[], \"z\":[]}\n",
    "for i in range(len(coordinate_ml[\"0\"][\"x\"])):\n",
    "    val = (_ar_lframe_rot.T @ (df_0_ml[[\"x\", \"y\", \"z\"]][i].to_numpy().reshape(3,1) - _ar_lframe_org)) - translation_correction\n",
    "\n",
    "    if val is None:\n",
    "        x = np.nan\n",
    "        y = np.nan\n",
    "        z = np.nan\n",
    "    else:\n",
    "        x = val[0][0]\n",
    "        y = val[1][0]\n",
    "        z = val[2][0]\n",
    "    tcoor_0_ml[\"x\"].append(x)\n",
    "    tcoor_0_ml[\"y\"].append(y)\n",
    "    tcoor_0_ml[\"z\"].append(z)\n"
   ]
  },
  {
   "cell_type": "code",
   "execution_count": 29,
   "metadata": {},
   "outputs": [],
   "source": [
    "ts_df = pd.DataFrame({\"ts\":ts})\n",
    "ts_df[\"ts\"] = pd.to_datetime(ts_df[\"ts\"])\n",
    "\n",
    "ar_df = pl.DataFrame({\"time\":ts,\"x\":tcoor_0_ml[\"x\"], \"y\":tcoor_0_ml[\"y\"], \"z\":tcoor_0_ml[\"z\"]})"
   ]
  },
  {
   "cell_type": "code",
   "execution_count": 30,
   "metadata": {},
   "outputs": [
    {
     "data": {
      "text/plain": [
       "<matplotlib.legend.Legend at 0x2e83a4e54e0>"
      ]
     },
     "execution_count": 30,
     "metadata": {},
     "output_type": "execute_result"
    },
    {
     "data": {
      "image/png": "[encoded data removed]",
      "text/plain": [
       "<Figure size 640x480 with 1 Axes>"
      ]
     },
     "metadata": {},
     "output_type": "display_data"
    }
   ],
   "source": [
    "plt.plot(ts_df[\"ts\"],np.array(tcoor_0_ml[\"x\"]), label=\"0x\")\n",
    "plt.plot(ts_df[\"ts\"],np.array(tcoor_0_ml[\"y\"]), label=\"0y\")\n",
    "plt.plot(ts_df[\"ts\"],np.array(tcoor_0_ml[\"z\"]), label=\"0z\")\n",
    "\n",
    "plt.plot(_mocap_df[\"time\"],_mocap_df[_om[\"x\"]], label=\"x\")\n",
    "plt.plot(_mocap_df[\"time\"],_mocap_df[_om[\"y\"]], label=\"y\")\n",
    "plt.plot(_mocap_df[\"time\"],_mocap_df[_om[\"z\"]], label=\"z\")\n",
    "\n",
    "plt.legend()"
   ]
  },
  {
   "cell_type": "code",
   "execution_count": 31,
   "metadata": {},
   "outputs": [
    {
     "name": "stdout",
     "output_type": "stream",
     "text": [
      "[   0.072756   -0.017603    0.043909]\n",
      "[[   0.072756]\n",
      " [  -0.017603]\n",
      " [   0.043909]]\n"
     ]
    }
   ],
   "source": [
    "diff = -np.array([_mocap_df[_om[\"x\"]][0]  - tcoor_0_ml[\"x\"][0], _mocap_df[_om[\"y\"]][0]- tcoor_0_ml[\"y\"][0], _mocap_df[_om[\"z\"]][0]- tcoor_0_ml[\"z\"][0]])\n",
    "print(diff)\n",
    "print(diff.reshape(3,1))"
   ]
  },
  {
   "cell_type": "code",
   "execution_count": 32,
   "metadata": {},
   "outputs": [
    {
     "name": "stdout",
     "output_type": "stream",
     "text": [
      "length of the vector 0.08678370976756371\n"
     ]
    }
   ],
   "source": [
    "print(\"length of the vector\",np.linalg.norm(diff.reshape(3,1)))"
   ]
  },
  {
   "attachments": {},
   "cell_type": "markdown",
   "metadata": {},
   "source": [
    "Bringing to skateboard frame"
   ]
  },
  {
   "cell_type": "code",
   "execution_count": 33,
   "metadata": {},
   "outputs": [],
   "source": [
    "\"\"\"\n",
    "checking position\n",
    "defining initial frame of reference\n",
    "\"\"\"\n",
    "\n",
    "xvec = [_mocap_df[_xm[\"x\"]].iloc[0], _mocap_df[_xm[\"y\"]].iloc[0], _mocap_df[_xm[\"z\"]].iloc[0]]\n",
    "xvec = np.array(xvec).reshape(3,1)\n",
    "\n",
    "zvec = [_mocap_df[_zm[\"x\"]].iloc[0], _mocap_df[_zm[\"y\"]].iloc[0], _mocap_df[_zm[\"z\"]].iloc[0]]\n",
    "zvec = np.array(zvec).reshape(3,1)\n",
    "\n",
    "org = [_mocap_df[_om[\"x\"]].iloc[0], _mocap_df[_om[\"y\"]].iloc[0], _mocap_df[_om[\"z\"]].iloc[0]]\n",
    "org = np.array(org).reshape(3,1)\n",
    "\n",
    "v1 = xvec - org  # v1\n",
    "v2 = zvec - org  # v2\n",
    "\n",
    "vxnorm = v1 / np.linalg.norm(v1)\n",
    "\n",
    "vzcap = v2 - (vxnorm.T @ v2) * vxnorm\n",
    "vznorm = vzcap / np.linalg.norm(vzcap)\n",
    "\n",
    "vynorm = np.cross(vznorm.T[0], vxnorm.T[0]).reshape(3, 1)\n",
    "rotMat = np.hstack((vxnorm, vynorm, vznorm)) # rotation matrix\n",
    "\n",
    "@njit\n",
    "def apply_rot_mat(mc_val, rotMat, org):\n",
    "    return (rotMat.T @ (mc_val - org)).T[0]"
   ]
  },
  {
   "cell_type": "code",
   "execution_count": 34,
   "metadata": {},
   "outputs": [
    {
     "name": "stderr",
     "output_type": "stream",
     "text": [
      "100%|██████████| 781/781 [00:00<00:00, 1914.22it/s]\n"
     ]
    }
   ],
   "source": [
    "# This cell is optimized to run faster using polars\n",
    "_mc_df = _mocap_df[[\"time\", _om[\"x\"], _om[\"y\"], _om[\"z\"]]].copy()\n",
    "_mc_df = _mc_df.rename(columns={_om[\"x\"]: \"x\", _om[\"y\"]: \"y\", _om[\"z\"]: \"z\"})\n",
    "# _mc_df = _mc_df.astype({\"x\": np.float64, \"y\": np.float64, \"z\": np.float64})\n",
    "\n",
    "_mc_pl_df = pl.from_pandas(_mc_df)\n",
    "\n",
    "my_dict = {\"x\":[],\"y\":[],\"z\":[]}\n",
    "\n",
    "for i in tqdm(range(len(_mc_df))):\n",
    "    _x, _y, _z = apply_rot_mat(_mc_pl_df[i, 1:].to_numpy().T, rotMat, org)\n",
    "    my_dict[\"x\"].append(_x)\n",
    "    my_dict[\"y\"].append(_y)\n",
    "    my_dict[\"z\"].append(_z)\t\n",
    "\n",
    "_mc_df[\"x\"] = my_dict[\"x\"]\n",
    "_mc_df[\"y\"] = my_dict[\"y\"]\n",
    "_mc_df[\"z\"] = my_dict[\"z\"]"
   ]
  },
  {
   "cell_type": "code",
   "execution_count": 35,
   "metadata": {},
   "outputs": [
    {
     "data": {
      "text/plain": [
       "<matplotlib.legend.Legend at 0x2e82c28a9e0>"
      ]
     },
     "execution_count": 35,
     "metadata": {},
     "output_type": "execute_result"
    },
    {
     "data": {
      "image/png": "[encoded data removed]",
      "text/plain": [
       "<Figure size 640x480 with 1 Axes>"
      ]
     },
     "metadata": {},
     "output_type": "display_data"
    }
   ],
   "source": [
    "plt.plot(_mc_df[\"x\"], label=\"mocap x\")\n",
    "plt.plot(_mc_df[\"y\"], label=\"mocap y\")\n",
    "plt.plot(_mc_df[\"z\"], label=\"mocap z\")\n",
    "plt.ylim(-0.5, 0.5)\n",
    "plt.legend()"
   ]
  },
  {
   "cell_type": "code",
   "execution_count": 45,
   "metadata": {},
   "outputs": [],
   "source": [
    "transform_ml = {\"x\":[], \"y\":[], \"z\":[]}\n",
    "for i in range(len(ar_df)):\n",
    "    # val = (rotMat.T @ (ar_df[[\"x\", \"y\", \"z\"]][i].to_numpy().reshape(3,1) - ar_df[[\"x\", \"y\", \"z\"]][0].to_numpy().reshape(3,1)))\n",
    "    val = (rotMat.T @ (ar_df[[\"x\", \"y\", \"z\"]][i].to_numpy().reshape(3,1) - diff.reshape(3,1)))\n",
    "\n",
    "    if val is None:\n",
    "        x = np.nan\n",
    "        y = np.nan\n",
    "        z = np.nan\n",
    "    else:\n",
    "        x = val[0][0]\n",
    "        y = val[1][0]\n",
    "        z = val[2][0]\n",
    "    transform_ml[\"x\"].append(x)\n",
    "    transform_ml[\"y\"].append(y)\n",
    "    transform_ml[\"z\"].append(z)\n"
   ]
  },
  {
   "cell_type": "code",
   "execution_count": 46,
   "metadata": {},
   "outputs": [
    {
     "data": {
      "text/plain": [
       "<matplotlib.legend.Legend at 0x2e848c0b4f0>"
      ]
     },
     "execution_count": 46,
     "metadata": {},
     "output_type": "execute_result"
    },
    {
     "data": {
      "image/png": "[encoded data removed]",
      "text/plain": [
       "<Figure size 640x480 with 1 Axes>"
      ]
     },
     "metadata": {},
     "output_type": "display_data"
    }
   ],
   "source": [
    "plt.plot(transform_ml[\"x\"], label=\"ar x\")\n",
    "plt.plot(transform_ml[\"y\"], label=\"ar y\")\n",
    "plt.plot(transform_ml[\"z\"], label=\"ar z\")\n",
    "plt.ylim(-0.5, 0.5)\n",
    "plt.legend()"
   ]
  },
  {
   "cell_type": "code",
   "execution_count": 47,
   "metadata": {},
   "outputs": [
    {
     "name": "stdout",
     "output_type": "stream",
     "text": [
      "0.010934502628560015 0.04660191664276027 0.1372268106875884\n"
     ]
    }
   ],
   "source": [
    "print(transform_ml[\"x\"][0], transform_ml[\"y\"][0], transform_ml[\"z\"][0])"
   ]
  },
  {
   "cell_type": "code",
   "execution_count": null,
   "metadata": {},
   "outputs": [],
   "source": []
  }
 ],
 "metadata": {
  "kernelspec": {
   "display_name": "py310",
   "language": "python",
   "name": "python3"
  },
  "language_info": {
   "codemirror_mode": {
    "name": "ipython",
    "version": 3
   },
   "file_extension": ".py",
   "mimetype": "text/x-python",
   "name": "python",
   "nbconvert_exporter": "python",
   "pygments_lexer": "ipython3",
   "version": "3.10.11"
  },
  "orig_nbformat": 4
 },
 "nbformat": 4,
 "nbformat_minor": 2
}
