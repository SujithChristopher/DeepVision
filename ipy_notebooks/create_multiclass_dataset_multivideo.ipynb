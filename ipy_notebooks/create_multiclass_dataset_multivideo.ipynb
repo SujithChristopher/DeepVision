{
 "cells": [
  {
   "cell_type": "code",
   "execution_count": 1,
   "metadata": {},
   "outputs": [],
   "source": [
    "from cv2 import aruco\n",
    "import cv2\n",
    "import numpy as np\n",
    "import matplotlib.pyplot as plt\n",
    "import msgpack as mp\n",
    "import msgpack_numpy as mpn\n",
    "import os\n",
    "\n",
    "from tqdm import tqdm\n",
    "import csv"
   ]
  },
  {
   "cell_type": "code",
   "execution_count": 2,
   "metadata": {},
   "outputs": [
    {
     "data": {
      "text/plain": [
       "array([[671.25534529,   0.        , 678.00736213],\n",
       "       [  0.        , 692.23316717, 443.37269229],\n",
       "       [  0.        ,   0.        ,   1.        ]])"
      ]
     },
     "execution_count": 2,
     "metadata": {},
     "output_type": "execute_result"
    }
   ],
   "source": [
    "_pth = os.getcwd()\n",
    "_pth = os.path.dirname(_pth)\n",
    "_parent_folder = \"cam_june_22_2023\"\n",
    "_calib_folder_name = \"calibration_00\"\n",
    "\n",
    "_folder_name = \"sk40_30_random_slow_00\"\n",
    "# _folder_name = \"board\"\n",
    "\n",
    "_base_pth = os.path.join(_pth,\"recorded_data\",_parent_folder)\n",
    "\n",
    "_webcam_calib_folder = os.path.join(_pth,\"recorded_data\",_parent_folder,_calib_folder_name)\n",
    "_webcam_calib_folder = os.path.join(_webcam_calib_folder)\n",
    "_webcam_calib_pth = os.path.join( _webcam_calib_folder, \"webcam_calibration.msgpack\")\n",
    "\n",
    "with open(_webcam_calib_pth, \"rb\") as f:\n",
    "    webcam_calib = mp.Unpacker(f, object_hook=mpn.decode)\n",
    "    _temp = next(webcam_calib)\n",
    "    _webcam_cam_mat = _temp[0]\n",
    "    _webcam_dist = _temp[1]\n",
    "\n",
    "_webcam_cam_mat"
   ]
  },
  {
   "cell_type": "code",
   "execution_count": 3,
   "metadata": {},
   "outputs": [],
   "source": [
    "ARUCO_PARAMETERS = aruco.DetectorParameters_create()\n",
    "ARUCO_DICT = aruco.Dictionary_get(aruco.DICT_ARUCO_ORIGINAL)\n",
    "markerLength = 0.05\n",
    "markerSeparation = 0.01\n",
    "\n",
    "board = aruco.GridBoard_create(\n",
    "        markersX=1,\n",
    "        markersY=1,\n",
    "        markerLength=markerLength,\n",
    "        markerSeparation=markerSeparation,\n",
    "        dictionary=ARUCO_DICT)"
   ]
  },
  {
   "cell_type": "code",
   "execution_count": 8,
   "metadata": {},
   "outputs": [
    {
     "data": {
      "text/plain": [
       "['sk40_30_4_forward_mocap_4',\n",
       " 'sk40_30_4_mleft_mocap_9',\n",
       " 'sk40_30_4_mright_mocap_8',\n",
       " 'sk40_30_4_random1',\n",
       " 'sk40_30_4_random2',\n",
       " 'sk40_30_4_random3',\n",
       " 'sk40_30_4_random5',\n",
       " 'sk40_30_4_random7',\n",
       " 'sk40_30_4_random_mocap_0',\n",
       " 'sk40_30_4_random_mocap_1',\n",
       " 'sk40_30_4_random_mocap_2',\n",
       " 'sk40_30_4_random_slow_00',\n",
       " 'sk40_30_4_rotation_mocap_7',\n",
       " 'sk40_30_4_sideways_mocap_5',\n",
       " 'sk40_30_4_static_mocap_3',\n",
       " 'sk40_30_4_static_mocap_6',\n",
       " 'sk40_30_5_random0',\n",
       " 'sk40_30_5_random6',\n",
       " 'sk40_40_4_random4']"
      ]
     },
     "execution_count": 8,
     "metadata": {},
     "output_type": "execute_result"
    }
   ],
   "source": [
    "video_folders_pth = os.path.join(_base_pth)\n",
    "video_folders_list = os.listdir(video_folders_pth)\n",
    "video_folders_list = video_folders_list[4:]\n",
    "# video_folders_list"
   ]
  },
  {
   "cell_type": "code",
   "execution_count": 11,
   "metadata": {},
   "outputs": [],
   "source": [
    "\"\"\"write folder names to text file\"\"\"\n",
    "_text_pth = os.path.join(_webcam_calib_folder, \"..\", \"00_analysis\", \"folder_names.txt\")\n",
    "with open(_text_pth, \"w\") as f:\n",
    "    for i in video_folders_list:\n",
    "        f.write(i + \"\\n\")"
   ]
  },
  {
   "cell_type": "code",
   "execution_count": 15,
   "metadata": {},
   "outputs": [],
   "source": [
    "with open(_text_pth, \"r\") as f:\n",
    "    video_folders_list = f.readlines()\n",
    "    video_folders_list = [i.strip() for i in video_folders_list]"
   ]
  },
  {
   "cell_type": "code",
   "execution_count": 16,
   "metadata": {},
   "outputs": [
    {
     "data": {
      "text/plain": [
       "['sk40_30_4_mleft_mocap_9',\n",
       " 'sk40_30_4_mright_mocap_8',\n",
       " 'sk40_30_4_random1',\n",
       " 'sk40_30_4_random2',\n",
       " 'sk40_30_4_random3',\n",
       " 'sk40_30_4_random5',\n",
       " 'sk40_30_4_random7',\n",
       " 'sk40_30_4_random_mocap_0',\n",
       " 'sk40_30_4_random_mocap_1',\n",
       " 'sk40_30_4_random_mocap_2',\n",
       " 'sk40_30_4_random_slow_00',\n",
       " 'sk40_30_4_rotation_mocap_7',\n",
       " 'sk40_30_5_random0',\n",
       " 'sk40_30_5_random6',\n",
       " 'sk40_40_4_random4']"
      ]
     },
     "execution_count": 16,
     "metadata": {},
     "output_type": "execute_result"
    }
   ],
   "source": [
    "video_folders_list"
   ]
  },
  {
   "cell_type": "code",
   "execution_count": 17,
   "metadata": {},
   "outputs": [
    {
     "name": "stderr",
     "output_type": "stream",
     "text": [
      "140it [00:02, 50.09it/s]\n",
      "296it [00:05, 56.34it/s]\n",
      "1044it [00:17, 58.20it/s]\n",
      "848it [00:15, 55.47it/s]\n",
      "1189it [00:21, 54.09it/s]\n",
      "948it [00:16, 57.98it/s]\n",
      "1160it [00:19, 59.03it/s]\n",
      "533it [00:08, 60.44it/s]\n",
      "613it [00:09, 61.48it/s]\n",
      "934it [00:16, 58.14it/s]\n",
      "892it [00:15, 56.22it/s]\n",
      "348it [00:04, 85.11it/s]\n",
      "403it [00:07, 57.54it/s]\n",
      "764it [00:12, 60.09it/s]\n",
      "1784it [00:31, 57.26it/s]\n"
     ]
    }
   ],
   "source": [
    "\n",
    "default_ids = [0, 49, 80]\n",
    "data = {\"frame_id\":[],\"marker_ids\":[], \"corners\":[], \"tvec\":[], \"rvec\":[]}\n",
    "\n",
    "counter = 0\n",
    "\n",
    "for _folder_name in video_folders_list:\n",
    "    _video_pth = os.path.join(_base_pth,_folder_name,\"webcam_color.msgpack\")\n",
    "    _video_file = open(_video_pth, \"rb\")\n",
    "    _video_data = mp.Unpacker(_video_file, object_hook=mpn.decode)\n",
    "\n",
    "    for _frame in tqdm(_video_data):\n",
    "\n",
    "        shape = _frame.shape\n",
    "        gray = cv2.cvtColor(_frame, cv2.COLOR_BGR2GRAY)\n",
    "        corners, ids, rejectedImgPoints = aruco.detectMarkers(gray, ARUCO_DICT, parameters=ARUCO_PARAMETERS)\n",
    "\n",
    "        corners, ids, rejectedImgPoints, recoveredIds = aruco.refineDetectedMarkers(\n",
    "            image = gray,\n",
    "            board = board,\n",
    "            detectedCorners = corners,\n",
    "            detectedIds = ids,\n",
    "            rejectedCorners = rejectedImgPoints,\n",
    "            cameraMatrix = _webcam_cam_mat,\n",
    "            distCoeffs = _webcam_dist)\n",
    "\n",
    "        rotation_vectors, translation_vectors, _ = aruco.estimatePoseSingleMarkers(corners, 0.04, _webcam_cam_mat, _webcam_dist)\n",
    "\n",
    "        if ids is None:\n",
    "            data[\"frame_id\"].append(counter)\n",
    "            data[\"marker_ids\"].append(None)\n",
    "            data[\"corners\"].append(None)\n",
    "            data[\"tvec\"].append(None)\n",
    "            data[\"rvec\"].append(None)\n",
    "\n",
    "        if ids is not None:\n",
    "            data[\"frame_id\"].append(counter)\n",
    "            data[\"marker_ids\"].append(ids)\n",
    "            data[\"corners\"].append(corners)\n",
    "            data[\"tvec\"].append(translation_vectors)\n",
    "            data[\"rvec\"].append(rotation_vectors)\n",
    "\n",
    "        counter+=1\n",
    "\n",
    "    _video_file.close()"
   ]
  },
  {
   "cell_type": "code",
   "execution_count": 18,
   "metadata": {},
   "outputs": [],
   "source": [
    "coordinate = {\"0\":{\"x\":[], \"y\":[], \"z\":[], \"rx\":[], \"ry\":[], \"rz\":[]},\n",
    "              \"49\":{\"x\":[], \"y\":[], \"z\":[], \"rx\":[], \"ry\":[], \"rz\":[]},\n",
    "              \"80\":{\"x\":[], \"y\":[], \"z\":[], \"rx\":[], \"ry\":[], \"rz\":[]}}\n",
    "\n",
    "doesnt_exist = [] # list of ids that doesnt exist in a frame\n",
    "\n",
    "for i in range(len(data[\"frame_id\"])):\n",
    "    if data[\"marker_ids\"][i] is not None:\n",
    "\n",
    "        if default_ids[0] not in data[\"marker_ids\"][i]:\n",
    "            doesnt_exist.append(default_ids[0])\n",
    "        if default_ids[1] not in data[\"marker_ids\"][i]:\n",
    "            doesnt_exist.append(default_ids[1])\n",
    "        if default_ids[2] not in data[\"marker_ids\"][i]:\n",
    "            doesnt_exist.append(default_ids[2])\n",
    "\n",
    "        for j in range(len(data[\"marker_ids\"][i])):\n",
    "            if data[\"marker_ids\"][i][j] in default_ids:\n",
    "                coordinate[str(data[\"marker_ids\"][i][j][0])][\"x\"].append(data[\"tvec\"][i][j][0][0])\n",
    "                coordinate[str(data[\"marker_ids\"][i][j][0])][\"y\"].append(data[\"tvec\"][i][j][0][1])\n",
    "                coordinate[str(data[\"marker_ids\"][i][j][0])][\"z\"].append(data[\"tvec\"][i][j][0][2])\n",
    "                coordinate[str(data[\"marker_ids\"][i][j][0])][\"rx\"].append(data[\"rvec\"][i][j][0][0])\n",
    "                coordinate[str(data[\"marker_ids\"][i][j][0])][\"ry\"].append(data[\"rvec\"][i][j][0][1])\n",
    "                coordinate[str(data[\"marker_ids\"][i][j][0])][\"rz\"].append(data[\"rvec\"][i][j][0][2])\n",
    "        for k in doesnt_exist:\n",
    "            coordinate[str(k)][\"x\"].append(np.nan)\n",
    "            coordinate[str(k)][\"y\"].append(np.nan)\n",
    "            coordinate[str(k)][\"z\"].append(np.nan)\n",
    "            coordinate[str(k)][\"rx\"].append(np.nan)\n",
    "            coordinate[str(k)][\"ry\"].append(np.nan)\n",
    "            coordinate[str(k)][\"rz\"].append(np.nan)\n",
    "        doesnt_exist = []\n",
    "    else:\n",
    "        for k in default_ids:\n",
    "            coordinate[str(k)][\"x\"].append(np.nan)\n",
    "            coordinate[str(k)][\"y\"].append(np.nan)\n",
    "            coordinate[str(k)][\"z\"].append(np.nan)\n",
    "            coordinate[str(k)][\"rx\"].append(np.nan)\n",
    "            coordinate[str(k)][\"ry\"].append(np.nan)\n",
    "            coordinate[str(k)][\"rz\"].append(np.nan)"
   ]
  },
  {
   "cell_type": "code",
   "execution_count": 22,
   "metadata": {},
   "outputs": [
    {
     "data": {
      "text/plain": [
       "<matplotlib.legend.Legend at 0x25be774e7a0>"
      ]
     },
     "execution_count": 22,
     "metadata": {},
     "output_type": "execute_result"
    },
    {
     "data": {
      "image/png": "[encoded data removed]",
      "text/plain": [
       "<Figure size 640x480 with 1 Axes>"
      ]
     },
     "metadata": {},
     "output_type": "display_data"
    }
   ],
   "source": [
    "# plt.plot(coordinate[\"0\"][\"x\"], label=\"x\")\n",
    "# plt.plot(coordinate[\"49\"][\"x\"], label=\"1x\")\n",
    "plt.plot(coordinate[\"80\"][\"x\"], label=\"2x\")\n",
    "plt.legend()"
   ]
  },
  {
   "cell_type": "code",
   "execution_count": 27,
   "metadata": {},
   "outputs": [],
   "source": [
    "raw_data_pth = os.path.abspath(os.path.join(os.getcwd(), os.pardir))\n",
    "raw_data_pth = os.path.join(raw_data_pth, 'dataset',\"multi_class\", \"raw_data\")\n",
    "if not os.path.exists(raw_data_pth):\n",
    "    os.makedirs(os.path.join(raw_data_pth, \"images\"))\n",
    "    os.makedirs(os.path.join(raw_data_pth, \"labels\"))\n",
    "    "
   ]
  },
  {
   "cell_type": "code",
   "execution_count": 28,
   "metadata": {},
   "outputs": [
    {
     "name": "stderr",
     "output_type": "stream",
     "text": [
      "140it [00:08, 16.14it/s]\n",
      "296it [00:29, 10.10it/s]\n",
      "1044it [02:17,  7.58it/s]\n",
      "423it [00:50,  8.42it/s]\n"
     ]
    },
    {
     "ename": "IndexError",
     "evalue": "index 3 is out of bounds for axis 0 with size 3",
     "output_type": "error",
     "traceback": [
      "\u001b[1;31m---------------------------------------------------------------------------\u001b[0m",
      "\u001b[1;31mIndexError\u001b[0m                                Traceback (most recent call last)",
      "Cell \u001b[1;32mIn[28], line 73\u001b[0m\n\u001b[0;32m     70\u001b[0m     _previous_yvec \u001b[39m=\u001b[39m translation_vectors[i][\u001b[39m0\u001b[39m][\u001b[39m1\u001b[39m]\n\u001b[0;32m     71\u001b[0m     _previous_zvec \u001b[39m=\u001b[39m translation_vectors[i][\u001b[39m0\u001b[39m][\u001b[39m2\u001b[39m]\n\u001b[1;32m---> 73\u001b[0m _current_xvec \u001b[39m=\u001b[39m translation_vectors[i][\u001b[39m0\u001b[39m][\u001b[39m0\u001b[39m]\n\u001b[0;32m     74\u001b[0m _current_yvec \u001b[39m=\u001b[39m translation_vectors[i][\u001b[39m0\u001b[39m][\u001b[39m1\u001b[39m]\n\u001b[0;32m     75\u001b[0m _current_zvec \u001b[39m=\u001b[39m translation_vectors[i][\u001b[39m0\u001b[39m][\u001b[39m2\u001b[39m]\n",
      "\u001b[1;31mIndexError\u001b[0m: index 3 is out of bounds for axis 0 with size 3"
     ]
    }
   ],
   "source": [
    "# based on the coordinate, we can create the labels\n",
    "# we will create the labels for each frame\n",
    "\n",
    "\n",
    "counter = 0\n",
    "default_ids = [0, 49, 80]\n",
    "\n",
    "\n",
    "for _folder_name in video_folders_list:\n",
    "\n",
    "    doesnt_exist = [] # list of ids that doesnt exist in a frame\n",
    "    _video_pth = os.path.join(_base_pth,_folder_name,\"webcam_color.msgpack\")\n",
    "    _video_file = open(_video_pth, \"rb\")\n",
    "    _video_data = mp.Unpacker(_video_file, object_hook=mpn.decode)\n",
    "\n",
    "    _current_xvec = 0.\n",
    "    _current_yvec = 0.\n",
    "    _current_zvec = 0.\n",
    "\n",
    "    _previous_xvec = 0.\n",
    "    _previous_yvec = 0.\n",
    "    _previous_zvec = 0.\n",
    "\n",
    "    _start_frame_counter = 0\n",
    "\n",
    "    for _frame in tqdm(_video_data):\n",
    "\n",
    "        shape = _frame.shape\n",
    "        height, width, _ = shape\n",
    "        gray = cv2.cvtColor(_frame, cv2.COLOR_BGR2GRAY)\n",
    "        markerCorners, ids, rejectedImgPoints = aruco.detectMarkers(gray, ARUCO_DICT, parameters=ARUCO_PARAMETERS)\n",
    "\n",
    "        markerCorners, ids, rejectedImgPoints, recoveredIds = aruco.refineDetectedMarkers(\n",
    "            image = gray,\n",
    "            board = board,\n",
    "            detectedCorners = markerCorners,\n",
    "            detectedIds = ids,\n",
    "            rejectedCorners = rejectedImgPoints,\n",
    "            cameraMatrix = _webcam_cam_mat,\n",
    "            distCoeffs = _webcam_dist)\n",
    "        \n",
    "        rotation_vectors, translation_vectors, _ = aruco.estimatePoseSingleMarkers(corners, 0.04, _webcam_cam_mat, _webcam_dist)\n",
    "\n",
    "        if len(markerCorners) == 0:\n",
    "            counter += 1\n",
    "            continue\n",
    "\n",
    "\n",
    "        img_name = f\"image_{counter}.png\"\n",
    "\n",
    "        label_name = img_name.split(\".\")[0]\n",
    "        label_path = os.path.join(raw_data_pth, \"labels\", f\"{label_name}.txt\")\n",
    "        label_file = open(label_path, \"w\", newline='')\n",
    "        label_writer = csv.writer(label_file, delimiter=\" \")\n",
    "\n",
    "        _class_name = \"0\"\n",
    "\n",
    "        if default_ids[0] not in ids:\n",
    "            doesnt_exist.append(default_ids[0])\n",
    "        if default_ids[1] not in ids:\n",
    "            doesnt_exist.append(default_ids[1])\n",
    "        if default_ids[2] not in ids:\n",
    "            doesnt_exist.append(default_ids[2])\n",
    "\n",
    "        for i in range(len(ids)):\n",
    "\n",
    "            if _start_frame_counter == 0:\n",
    "\n",
    "                _previous_xvec = translation_vectors[i][0][0]\n",
    "                _previous_yvec = translation_vectors[i][0][1]\n",
    "                _previous_zvec = translation_vectors[i][0][2]\n",
    "\n",
    "            _current_xvec = translation_vectors[i][0][0]\n",
    "            _current_yvec = translation_vectors[i][0][1]\n",
    "            _current_zvec = translation_vectors[i][0][2]\n",
    "\n",
    "            if abs(_current_xvec - _previous_xvec)>0.1:\n",
    "                continue\n",
    "            elif abs(_current_yvec - _previous_yvec)>0.1:\n",
    "                continue\n",
    "            elif abs(_current_zvec - _previous_zvec)>0.1:\n",
    "                continue\n",
    "\n",
    "            _previous_xvec = _current_xvec\n",
    "            _previous_yvec = _current_yvec\n",
    "            _previous_zvec = _current_zvec\n",
    "\n",
    "            _markerCorners = markerCorners[i][0]\n",
    "            bbox_x,bbox_y,bbox_width,bbox_height = cv2.boundingRect(_markerCorners)\n",
    "\n",
    "            bbox_x = bbox_x / width\n",
    "            bbox_y = bbox_y / height\n",
    "\n",
    "            bbox_center_x = bbox_x + bbox_width / (2 * width)\n",
    "            bbox_center_y = bbox_y + bbox_height / (2 * height)\n",
    "\n",
    "            bbox_width = bbox_width / width\n",
    "            bbox_height = bbox_height / height\n",
    "            if ids[i][0] == 0:\n",
    "                _class_name = \"0\"\n",
    "            elif ids[i][0] == 49:\n",
    "                _class_name = \"1\"\n",
    "            elif ids[i][0] == 80:\n",
    "                _class_name = \"2\"\n",
    "\n",
    "            label_writer.writerow([_class_name, bbox_center_x, bbox_center_y, bbox_width, bbox_height,_markerCorners[0][0]/width, _markerCorners[0][1]/height, _markerCorners[1][0]/width, _markerCorners[1][1]/height, _markerCorners[2][0]/width, _markerCorners[2][1]/height, _markerCorners[3][0]/width, _markerCorners[3][1]/height, _markerCorners[0][0]/width, _markerCorners[0][1]/height])\n",
    "\n",
    "\n",
    "        label_file.close()\n",
    "        doesnt_exist = []\n",
    "        # save image\n",
    "        image_path = os.path.join(raw_data_pth, \"images\", img_name)\n",
    "        cv2.imwrite(image_path, _frame)\n",
    "        counter += 1\n",
    "        _start_frame_counter += 1\n",
    "\n",
    "    _video_file.close()"
   ]
  },
  {
   "cell_type": "code",
   "execution_count": 8,
   "metadata": {},
   "outputs": [
    {
     "name": "stderr",
     "output_type": "stream",
     "text": [
      "100%|██████████| 7033/7033 [21:18<00:00,  5.50it/s]  \n"
     ]
    }
   ],
   "source": [
    "# splitting dataset into train and validation and test\n",
    "data_pth = os.path.abspath(os.path.join(os.getcwd(), os.pardir))\n",
    "data_pth = os.path.join(data_pth, 'dataset',\"multi_class\", \"dataset_processed\")\n",
    "\n",
    "images_pth = os.path.join(data_pth, \"images\")\n",
    "labels_pth = os.path.join(data_pth, \"labels\")\n",
    "\n",
    "if not os.path.exists(images_pth):\n",
    "    os.makedirs(os.path.join(images_pth, \"train\"))\n",
    "    os.makedirs(os.path.join(images_pth, \"val\"))\n",
    "    os.makedirs(os.path.join(images_pth, \"test\"))\n",
    "\n",
    "if not os.path.exists(labels_pth):\n",
    "    os.makedirs(os.path.join(labels_pth, \"train\"))\n",
    "    os.makedirs(os.path.join(labels_pth, \"val\"))\n",
    "    os.makedirs(os.path.join(labels_pth, \"test\"))\n",
    "    \n",
    "    \n",
    "image_list = os.listdir(os.path.join(raw_data_pth, \"images\"))\n",
    "\n",
    "# splitting dataset into train and test\n",
    "for img_name in tqdm(image_list):\n",
    "    \n",
    "    _image_path = os.path.join(raw_data_pth, \"images\", img_name)\n",
    "    image = cv2.imread(_image_path)\n",
    "    \n",
    "    label_name = img_name.split(\".\")[0]\n",
    "    label_path = os.path.join(raw_data_pth, \"labels\", f\"{label_name}.txt\")\n",
    "    label_file = open(label_path, \"r\", newline='')\n",
    "    label_reader = csv.reader(label_file, delimiter=\" \")\n",
    "    label = list(label_reader)\n",
    "\n",
    "    label_file.close()\n",
    "    \n",
    "    # if int(label[0]) == 0:\n",
    "    if np.random.rand() < 0.7:\n",
    "        # save image\n",
    "        image_path = os.path.join(os.path.join(images_pth, \"train\"), img_name)\n",
    "        cv2.imwrite(image_path, image)\n",
    "        \n",
    "        label_path = os.path.join(os.path.join(labels_pth, \"train\"), f\"{label_name}.txt\")\n",
    "        label_file = open(label_path, \"w\", newline='')\n",
    "        label_writer = csv.writer(label_file, delimiter=\" \")\n",
    "        for l in label:\n",
    "            label_writer.writerow(l)\n",
    "        label_file.close()\n",
    "        \n",
    "    elif np.random.rand() < 0.9 and np.random.rand() > 0.7:\n",
    "        # save image\n",
    "        image_path = os.path.join(os.path.join(images_pth, \"val\"), img_name)\n",
    "        cv2.imwrite(image_path, image)\n",
    "        \n",
    "        label_path = os.path.join(os.path.join(labels_pth, \"val\"), f\"{label_name}.txt\")\n",
    "        label_file = open(label_path, \"w\", newline='')\n",
    "        label_writer = csv.writer(label_file, delimiter=\" \")\n",
    "        for l in label:\n",
    "            label_writer.writerow(l)\n",
    "        label_file.close()\n",
    "        \n",
    "    else:\n",
    "        # save image\n",
    "        image_path = os.path.join(os.path.join(images_pth, \"test\"), img_name)\n",
    "        cv2.imwrite(image_path, image)\n",
    "        \n",
    "        label_path = os.path.join(os.path.join(labels_pth, \"test\"), f\"{label_name}.txt\")\n",
    "        label_file = open(label_path, \"w\", newline='')\n",
    "        label_writer = csv.writer(label_file, delimiter=\" \")\n",
    "        for l in label:\n",
    "            label_writer.writerow(l)\n",
    "        label_file.close() \n"
   ]
  },
  {
   "cell_type": "code",
   "execution_count": null,
   "metadata": {},
   "outputs": [],
   "source": []
  }
 ],
 "metadata": {
  "kernelspec": {
   "display_name": "py310",
   "language": "python",
   "name": "python3"
  },
  "language_info": {
   "codemirror_mode": {
    "name": "ipython",
    "version": 3
   },
   "file_extension": ".py",
   "mimetype": "text/x-python",
   "name": "python",
   "nbconvert_exporter": "python",
   "pygments_lexer": "ipython3",
   "version": "3.10.11"
  },
  "orig_nbformat": 4
 },
 "nbformat": 4,
 "nbformat_minor": 2
}
