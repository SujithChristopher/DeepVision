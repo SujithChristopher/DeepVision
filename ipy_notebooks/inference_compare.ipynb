{
 "cells": [
  {
   "cell_type": "code",
   "execution_count": 12,
   "metadata": {},
   "outputs": [],
   "source": [
    "import numpy as np\n",
    "import os\n",
    "import pandas as pd\n",
    "import matplotlib.pyplot as plt\n",
    "import seaborn as sns\n",
    "import polars as pl\n",
    "import cv2\n",
    "import msgpack as mp\n",
    "import msgpack_numpy as mpn\n",
    "from cv2 import aruco"
   ]
  },
  {
   "cell_type": "code",
   "execution_count": 10,
   "metadata": {},
   "outputs": [
    {
     "name": "stdout",
     "output_type": "stream",
     "text": [
      "camera matrix [[880.19523452   0.         358.2789884 ]\n",
      " [  0.         881.87061144 242.70902376]\n",
      " [  0.           0.           1.        ]]\n",
      "distortion [[ 1.24325941e-01 -1.20330000e-01 -2.99461015e-03 -1.15851300e-03\n",
      "  -3.99283638e+00]]\n"
     ]
    }
   ],
   "source": [
    "_webcam_calib_folder = r\"C:\\Users\\CMC\\Documents\\openposelibs\\pose\\armbo\\recording_programs\\test_data\\omni_cam_9d0f_may_8_2023\\calibration_00\"\n",
    "_webcam_calib_folder = os.path.join(_webcam_calib_folder)\n",
    "_webcam_calib_pth = os.path.join( _webcam_calib_folder, \"webcam_calibration.msgpack\")\n",
    "\n",
    "with open(_webcam_calib_pth, \"rb\") as f:\n",
    "    webcam_calib = mp.Unpacker(f, object_hook=mpn.decode)\n",
    "    _temp = next(webcam_calib)\n",
    "    _webcam_cam_mat = _temp[0]\n",
    "    _webcam_dist = _temp[1]\n",
    "_webcam_video_pth = os.path.join(_webcam_calib_folder, \"webcam_color.msgpack\")\n",
    "_webcam_timestamp_pth = os.path.join(_webcam_calib_folder, \"webcam_timestamp.msgpack\")\n",
    "\n",
    "with open(os.path.join(_webcam_calib_folder, \"webcam_rotmat.msgpack\"), \"rb\") as f:\n",
    "    webcam_rotmat = mp.Unpacker(f, object_hook=mpn.decode)\n",
    "    _webcam_rot = next(webcam_rotmat)\n",
    "    _webcam_org = next(webcam_rotmat)\n",
    "print(\"camera matrix\", _webcam_cam_mat)\n",
    "print(\"distortion\", _webcam_dist)\n",
    "\n"
   ]
  },
  {
   "cell_type": "code",
   "execution_count": 9,
   "metadata": {},
   "outputs": [],
   "source": [
    "_video_pth = r\"C:\\Users\\CMC\\Documents\\openposelibs\\pose\\armbo\\recording_programs\\test_data\\omni_cam_9d0f_may_8_2023\\sk36_30_random_01\\webcam_color.msgpack\"\n",
    "\n",
    "_vid_file = open(_video_pth, \"rb\")\n",
    "unpacker = mp.Unpacker(_vid_file, object_hook=mpn.decode)\n",
    "_video_data = [msg for msg in unpacker]"
   ]
  },
  {
   "attachments": {},
   "cell_type": "markdown",
   "metadata": {},
   "source": [
    "Aruco detection"
   ]
  },
  {
   "cell_type": "code",
   "execution_count": 13,
   "metadata": {},
   "outputs": [],
   "source": [
    "ARUCO_PARAMETERS = aruco.DetectorParameters()\n",
    "DICTIONARY = aruco.getPredefinedDictionary(aruco.DICT_ARUCO_ORIGINAL)\n",
    "detector = aruco.ArucoDetector(DICTIONARY, ARUCO_PARAMETERS)"
   ]
  },
  {
   "cell_type": "code",
   "execution_count": 16,
   "metadata": {},
   "outputs": [
    {
     "ename": "AttributeError",
     "evalue": "module 'cv2.aruco' has no attribute 'estimatePoseSingleMarkers'",
     "output_type": "error",
     "traceback": [
      "\u001b[1;31m---------------------------------------------------------------------------\u001b[0m",
      "\u001b[1;31mAttributeError\u001b[0m                            Traceback (most recent call last)",
      "Cell \u001b[1;32mIn[16], line 5\u001b[0m\n\u001b[0;32m      1\u001b[0m corners, ids, rejected_img_points \u001b[39m=\u001b[39m detector\u001b[39m.\u001b[39mdetectMarkers(_video_data[\u001b[39m0\u001b[39m])\n\u001b[0;32m      2\u001b[0m \u001b[39m# draw the marker and show it\u001b[39;00m\n\u001b[0;32m      3\u001b[0m \u001b[39m# temp_image = aruco.drawDetectedMarkers(temp_image, corners, ids)\u001b[39;00m\n\u001b[1;32m----> 5\u001b[0m aruco\u001b[39m.\u001b[39;49mestimatePoseSingleMarkers(corners, \u001b[39m0.05\u001b[39m, _webcam_cam_mat, _webcam_dist)\n",
      "\u001b[1;31mAttributeError\u001b[0m: module 'cv2.aruco' has no attribute 'estimatePoseSingleMarkers'"
     ]
    }
   ],
   "source": [
    "corners, ids, rejected_img_points = detector.detectMarkers(_video_data[0])\n",
    "# draw the marker and show it\n",
    "# temp_image = aruco.drawDetectedMarkers(temp_image, corners, ids)\n",
    "\n",
    "aruco.estimatePoseSingleMarkers(corners, 0.05, _webcam_cam_mat, _webcam_dist)"
   ]
  },
  {
   "cell_type": "code",
   "execution_count": 15,
   "metadata": {},
   "outputs": [
    {
     "data": {
      "text/plain": [
       "(array([[[418., 467.],\n",
       "         [419., 501.],\n",
       "         [385., 500.],\n",
       "         [384., 466.]]], dtype=float32),)"
      ]
     },
     "execution_count": 15,
     "metadata": {},
     "output_type": "execute_result"
    }
   ],
   "source": []
  },
  {
   "cell_type": "code",
   "execution_count": null,
   "metadata": {},
   "outputs": [],
   "source": []
  }
 ],
 "metadata": {
  "kernelspec": {
   "display_name": "py310",
   "language": "python",
   "name": "python3"
  },
  "language_info": {
   "codemirror_mode": {
    "name": "ipython",
    "version": 3
   },
   "file_extension": ".py",
   "mimetype": "text/x-python",
   "name": "python",
   "nbconvert_exporter": "python",
   "pygments_lexer": "ipython3",
   "version": "3.10.11"
  },
  "orig_nbformat": 4
 },
 "nbformat": 4,
 "nbformat_minor": 2
}
