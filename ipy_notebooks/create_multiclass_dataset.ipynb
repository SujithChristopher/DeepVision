{
 "cells": [
  {
   "cell_type": "code",
   "execution_count": 3,
   "metadata": {},
   "outputs": [],
   "source": [
    "from cv2 import aruco\n",
    "import cv2\n",
    "import numpy as np\n",
    "import matplotlib.pyplot as plt\n",
    "import msgpack as mp\n",
    "import msgpack_numpy as mpn"
   ]
  },
  {
   "cell_type": "code",
   "execution_count": 1,
   "metadata": {},
   "outputs": [],
   "source": [
    "pth = r\"C:\\Users\\CMC\\Documents\\openposelibs\\pose\\DeepVision\\recorded_data\\cam_june_22_2023\\test\\webcam_color.msgpack\""
   ]
  },
  {
   "cell_type": "code",
   "execution_count": 4,
   "metadata": {},
   "outputs": [],
   "source": [
    "ARUCO_PARAMETERS = aruco.DetectorParameters_create()\n",
    "ARUCO_DICT = aruco.Dictionary_get(aruco.DICT_ARUCO_ORIGINAL)\n",
    "markerLength = 0.05\n",
    "markerSeparation = 0.01\n",
    "\n",
    "board = aruco.GridBoard_create(\n",
    "        markersX=1,\n",
    "        markersY=1,\n",
    "        markerLength=markerLength,\n",
    "        markerSeparation=markerSeparation,\n",
    "        dictionary=ARUCO_DICT)"
   ]
  },
  {
   "cell_type": "code",
   "execution_count": 10,
   "metadata": {},
   "outputs": [
    {
     "name": "stdout",
     "output_type": "stream",
     "text": [
      "more than 1 marker detected\n",
      "[[ 0]\n",
      " [49]] (array([[[757., 478.],\n",
      "        [757., 413.],\n",
      "        [793., 415.],\n",
      "        [793., 475.]]], dtype=float32), array([[[506., 419.],\n",
      "        [534., 418.],\n",
      "        [531., 470.],\n",
      "        [502., 468.]]], dtype=float32))\n"
     ]
    }
   ],
   "source": [
    "_video_file = open(pth, \"rb\")\n",
    "_video_data = mp.Unpacker(_video_file, object_hook=mpn.decode)\n",
    "\n",
    "for _frame in _video_data:\n",
    "\n",
    "    shape = _frame.shape\n",
    "    gray = cv2.cvtColor(_frame, cv2.COLOR_BGR2GRAY)\n",
    "    corners, ids, rejectedImgPoints = aruco.detectMarkers(gray, ARUCO_DICT, parameters=ARUCO_PARAMETERS)\n",
    "\n",
    "    if len(ids) > 1:\n",
    "        print(\"more than 1 marker detected\")\n",
    "        print(ids, corners)\n",
    "        break"
   ]
  },
  {
   "cell_type": "code",
   "execution_count": null,
   "metadata": {},
   "outputs": [],
   "source": []
  }
 ],
 "metadata": {
  "kernelspec": {
   "display_name": "py310",
   "language": "python",
   "name": "python3"
  },
  "language_info": {
   "codemirror_mode": {
    "name": "ipython",
    "version": 3
   },
   "file_extension": ".py",
   "mimetype": "text/x-python",
   "name": "python",
   "nbconvert_exporter": "python",
   "pygments_lexer": "ipython3",
   "version": "3.10.11"
  },
  "orig_nbformat": 4
 },
 "nbformat": 4,
 "nbformat_minor": 2
}
